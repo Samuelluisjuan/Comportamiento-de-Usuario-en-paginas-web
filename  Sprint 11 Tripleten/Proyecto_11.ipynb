{
 "cells": [
  {
   "cell_type": "markdown",
   "metadata": {},
   "source": [
    "# Descripción de los datos\n",
    "- Cada entrada de registro es una acción de usuario o un evento.\n",
    "\n",
    "### EventName: nombre del evento.\n",
    "### DeviceIDHash: identificador de usuario unívoco.\n",
    "### EventTimestamp: hora del evento.\n",
    "### ExpId: número de experimento: 246 y 247 son los grupos de control, 248 es el grupo de prueba.\n",
    "\n",
    "## Paso 1. Abrir el archivo de datos y leer la información general\n",
    "\n",
    "\n",
    "## Paso 2. Preparar los datos para el análisis\n",
    "- Cambia el nombre de las columnas de manera que sea conveniente para ti\n",
    "- Comprueba si hay tipos de datos y valores ausentes. Corrige los datos si es necesario\n",
    "- Agrega una columna de fecha y hora y una columna separada para las fechas\n",
    "\n",
    "## Paso 3. Estudiar y comprobar los datos\n",
    "\n",
    "- ¿Cuántos eventos hay en los registros?\n",
    "- ¿Cuántos usuarios y usuarias hay en los registros?\n",
    "- ¿Cuál es el promedio de eventos por usuario?\n",
    "- ¿Qué periodo de tiempo cubren los datos? Encuentra la fecha máxima y mínima. Traza un histograma por fecha y hora. ¿Puedes tener seguridad de que tienes datos igualmente completos para todo el periodo? Los eventos más antiguos podrían terminar en los registros de algunos usuarios o usuarias por razones técnicas y esto podría sesgar el panorama general. Encuentra el momento en el que los datos comienzan a estar completos e ignora la sección anterior. ¿Qué periodo representan realmente los datos?\n",
    "- ¿Perdiste muchos eventos y usuarios al excluir los datos más antiguos?\n",
    "- Asegúrate de tener usuarios y usuarias de los tres grupos experimentales.\n",
    "\n",
    "## Paso 4. Estudiar el embudo de eventos\n",
    "\n",
    "- Observa qué eventos hay en los registros y su frecuencia de suceso. Ordénalos por frecuencia.\n",
    "- Encuentra la cantidad de usuarios y usuarias que realizaron cada una de estas acciones. Ordena los eventos por el número de usuarios y usuarias. Calcula la proporción de usuarios y usuarias que realizaron la acción al menos una vez.\n",
    "- ¿En qué orden crees que ocurrieron las acciones? ¿Todas son parte de una sola secuencia? No es necesario tenerlas en cuenta al calcular el embudo.\n",
    "- Utiliza el embudo de eventos para encontrar la proporción de usuarios y usuarias que pasan de una etapa a la siguiente. (Por ejemplo, para la secuencia de eventos A → B → C, calcula la proporción de usuarios en la etapa B a la cantidad de usuarios en la etapa A y la proporción de usuarios en la etapa C a la cantidad en la etapa B).\n",
    "- ¿En qué etapa pierdes más usuarios y usuarias?\n",
    "- ¿Qué porcentaje de usuarios y usuarias hace todo el viaje desde su primer evento hasta el pago?\n",
    "\n",
    "## Paso 5. Estudiar los resultados del experimento\n",
    "\n",
    "- ¿Cuántos usuarios y usuarias hay en cada grupo?\n",
    "- Tenemos dos grupos de control en el test A/A, donde comprobamos nuestros mecanismos y cálculos. Observa si hay una diferencia estadísticamente significativa entre las muestras 246 y 247.\n",
    "- Selecciona el evento más popular. En cada uno de los grupos de control, encuentra la cantidad de usuarios y usuarias que realizaron esta acción. Encuentra su proporción. Comprueba si la diferencia entre los grupos es estadísticamente significativa. Repite el procedimiento para todos los demás eventos (ahorrarás tiempo si creas una función especial para esta prueba). ¿Puedes confirmar que los grupos se dividieron correctamente?\n",
    "- Haz lo mismo para el grupo con fuentes alteradas. Compara los resultados con los de cada uno de los grupos de control para cada evento de forma aislada. Compara los resultados con los resultados combinados de los grupos de control. ¿Qué conclusiones puedes sacar del experimento?\n",
    "- ¿Qué nivel de significación has establecido para probar las hipótesis estadísticas mencionadas anteriormente? Calcula cuántas pruebas de hipótesis estadísticas has realizado. Con un nivel de significancia estadística de 0.1, uno de cada 10 resultados podría ser falso. ¿Cuál debería ser el nivel de significación? Si deseas cambiarlo, vuelve a ejecutar los pasos anteriores y comprueba tus conclusiones."
   ]
  },
  {
   "cell_type": "markdown",
   "metadata": {},
   "source": [
    "## Paso 1. Abrir el archivo de datos y leer la información general\n",
    "\n",
    "###  Ruta de archivo: /datasets/logs_exp_us.csv Descarga el dataset"
   ]
  },
  {
   "cell_type": "code",
   "execution_count": 105,
   "metadata": {},
   "outputs": [],
   "source": [
    "import pandas as pd\n",
    "import seaborn as sns \n",
    "import matplotlib.pyplot as plt\n",
    "import math\n",
    "import numpy as np\n",
    "from scipy import stats as st\n",
    "from IPython.display import display\n",
    "from scipy.stats import ttest_ind\n",
    "from scipy.stats import shapiro\n",
    "from datetime import datetime\n",
    "import itertools"
   ]
  },
  {
   "cell_type": "code",
   "execution_count": 106,
   "metadata": {},
   "outputs": [
    {
     "data": {
      "text/html": [
       "<div>\n",
       "<style scoped>\n",
       "    .dataframe tbody tr th:only-of-type {\n",
       "        vertical-align: middle;\n",
       "    }\n",
       "\n",
       "    .dataframe tbody tr th {\n",
       "        vertical-align: top;\n",
       "    }\n",
       "\n",
       "    .dataframe thead th {\n",
       "        text-align: right;\n",
       "    }\n",
       "</style>\n",
       "<table border=\"1\" class=\"dataframe\">\n",
       "  <thead>\n",
       "    <tr style=\"text-align: right;\">\n",
       "      <th></th>\n",
       "      <th>eventname</th>\n",
       "      <th>deviceidhash</th>\n",
       "      <th>eventtimestamp</th>\n",
       "      <th>expid</th>\n",
       "    </tr>\n",
       "  </thead>\n",
       "  <tbody>\n",
       "    <tr>\n",
       "      <th>0</th>\n",
       "      <td>MainScreenAppear</td>\n",
       "      <td>4575588528974610257</td>\n",
       "      <td>1564029816</td>\n",
       "      <td>246</td>\n",
       "    </tr>\n",
       "    <tr>\n",
       "      <th>1</th>\n",
       "      <td>MainScreenAppear</td>\n",
       "      <td>7416695313311560658</td>\n",
       "      <td>1564053102</td>\n",
       "      <td>246</td>\n",
       "    </tr>\n",
       "    <tr>\n",
       "      <th>2</th>\n",
       "      <td>PaymentScreenSuccessful</td>\n",
       "      <td>3518123091307005509</td>\n",
       "      <td>1564054127</td>\n",
       "      <td>248</td>\n",
       "    </tr>\n",
       "    <tr>\n",
       "      <th>3</th>\n",
       "      <td>CartScreenAppear</td>\n",
       "      <td>3518123091307005509</td>\n",
       "      <td>1564054127</td>\n",
       "      <td>248</td>\n",
       "    </tr>\n",
       "    <tr>\n",
       "      <th>4</th>\n",
       "      <td>PaymentScreenSuccessful</td>\n",
       "      <td>6217807653094995999</td>\n",
       "      <td>1564055322</td>\n",
       "      <td>248</td>\n",
       "    </tr>\n",
       "    <tr>\n",
       "      <th>...</th>\n",
       "      <td>...</td>\n",
       "      <td>...</td>\n",
       "      <td>...</td>\n",
       "      <td>...</td>\n",
       "    </tr>\n",
       "    <tr>\n",
       "      <th>244121</th>\n",
       "      <td>MainScreenAppear</td>\n",
       "      <td>4599628364049201812</td>\n",
       "      <td>1565212345</td>\n",
       "      <td>247</td>\n",
       "    </tr>\n",
       "    <tr>\n",
       "      <th>244122</th>\n",
       "      <td>MainScreenAppear</td>\n",
       "      <td>5849806612437486590</td>\n",
       "      <td>1565212439</td>\n",
       "      <td>246</td>\n",
       "    </tr>\n",
       "    <tr>\n",
       "      <th>244123</th>\n",
       "      <td>MainScreenAppear</td>\n",
       "      <td>5746969938801999050</td>\n",
       "      <td>1565212483</td>\n",
       "      <td>246</td>\n",
       "    </tr>\n",
       "    <tr>\n",
       "      <th>244124</th>\n",
       "      <td>MainScreenAppear</td>\n",
       "      <td>5746969938801999050</td>\n",
       "      <td>1565212498</td>\n",
       "      <td>246</td>\n",
       "    </tr>\n",
       "    <tr>\n",
       "      <th>244125</th>\n",
       "      <td>OffersScreenAppear</td>\n",
       "      <td>5746969938801999050</td>\n",
       "      <td>1565212517</td>\n",
       "      <td>246</td>\n",
       "    </tr>\n",
       "  </tbody>\n",
       "</table>\n",
       "<p>244126 rows × 4 columns</p>\n",
       "</div>"
      ],
      "text/plain": [
       "                      eventname         deviceidhash  eventtimestamp  expid\n",
       "0              MainScreenAppear  4575588528974610257      1564029816    246\n",
       "1              MainScreenAppear  7416695313311560658      1564053102    246\n",
       "2       PaymentScreenSuccessful  3518123091307005509      1564054127    248\n",
       "3              CartScreenAppear  3518123091307005509      1564054127    248\n",
       "4       PaymentScreenSuccessful  6217807653094995999      1564055322    248\n",
       "...                         ...                  ...             ...    ...\n",
       "244121         MainScreenAppear  4599628364049201812      1565212345    247\n",
       "244122         MainScreenAppear  5849806612437486590      1565212439    246\n",
       "244123         MainScreenAppear  5746969938801999050      1565212483    246\n",
       "244124         MainScreenAppear  5746969938801999050      1565212498    246\n",
       "244125       OffersScreenAppear  5746969938801999050      1565212517    246\n",
       "\n",
       "[244126 rows x 4 columns]"
      ]
     },
     "execution_count": 106,
     "metadata": {},
     "output_type": "execute_result"
    }
   ],
   "source": [
    "# Descargamos el archivo \n",
    "logs = pd.read_csv('logs_exp_us.csv',  delimiter='\\t')\n",
    "\n",
    "#Convertimos los encabezados en minusculas \n",
    "logs.columns = logs.columns.str.lower()\n",
    "logs"
   ]
  },
  {
   "cell_type": "markdown",
   "metadata": {},
   "source": [
    "## Paso 2. Preparar los datos para el análisis\n",
    "\n",
    "### - Cambia el nombre de las columnas de manera que sea conveniente para ti\n",
    "### - Comprueba si hay tipos de datos y valores ausentes. Corrige los datos si es necesario\n",
    "### - Agrega una columna de fecha y hora y una columna separada para las fechas"
   ]
  },
  {
   "cell_type": "code",
   "execution_count": 107,
   "metadata": {},
   "outputs": [],
   "source": [
    "# Cambiar nombres de columnas específicos\n",
    "logs = logs.rename(columns={'eventname': 'evento', 'deviceidhash': 'identificador_usuario', 'eventtimestamp': 'fecha', 'expid': 'numero_grupo'})"
   ]
  },
  {
   "cell_type": "code",
   "execution_count": 108,
   "metadata": {},
   "outputs": [
    {
     "name": "stdout",
     "output_type": "stream",
     "text": [
      "<class 'pandas.core.frame.DataFrame'>\n",
      "RangeIndex: 244126 entries, 0 to 244125\n",
      "Data columns (total 4 columns):\n",
      " #   Column                 Non-Null Count   Dtype \n",
      "---  ------                 --------------   ----- \n",
      " 0   evento                 244126 non-null  object\n",
      " 1   identificador_usuario  244126 non-null  int64 \n",
      " 2   fecha                  244126 non-null  int64 \n",
      " 3   numero_grupo           244126 non-null  int64 \n",
      "dtypes: int64(3), object(1)\n",
      "memory usage: 7.5+ MB\n"
     ]
    }
   ],
   "source": [
    "logs.info()"
   ]
  },
  {
   "cell_type": "code",
   "execution_count": 109,
   "metadata": {},
   "outputs": [
    {
     "data": {
      "text/html": [
       "<div>\n",
       "<style scoped>\n",
       "    .dataframe tbody tr th:only-of-type {\n",
       "        vertical-align: middle;\n",
       "    }\n",
       "\n",
       "    .dataframe tbody tr th {\n",
       "        vertical-align: top;\n",
       "    }\n",
       "\n",
       "    .dataframe thead th {\n",
       "        text-align: right;\n",
       "    }\n",
       "</style>\n",
       "<table border=\"1\" class=\"dataframe\">\n",
       "  <thead>\n",
       "    <tr style=\"text-align: right;\">\n",
       "      <th></th>\n",
       "      <th>fecha</th>\n",
       "      <th>date</th>\n",
       "      <th>hora</th>\n",
       "    </tr>\n",
       "  </thead>\n",
       "  <tbody>\n",
       "    <tr>\n",
       "      <th>0</th>\n",
       "      <td>2019-07-25 04:43:36</td>\n",
       "      <td>2019-07-25</td>\n",
       "      <td>04:43:36</td>\n",
       "    </tr>\n",
       "    <tr>\n",
       "      <th>1</th>\n",
       "      <td>2019-07-25 11:11:42</td>\n",
       "      <td>2019-07-25</td>\n",
       "      <td>11:11:42</td>\n",
       "    </tr>\n",
       "    <tr>\n",
       "      <th>2</th>\n",
       "      <td>2019-07-25 11:28:47</td>\n",
       "      <td>2019-07-25</td>\n",
       "      <td>11:28:47</td>\n",
       "    </tr>\n",
       "    <tr>\n",
       "      <th>3</th>\n",
       "      <td>2019-07-25 11:28:47</td>\n",
       "      <td>2019-07-25</td>\n",
       "      <td>11:28:47</td>\n",
       "    </tr>\n",
       "    <tr>\n",
       "      <th>4</th>\n",
       "      <td>2019-07-25 11:48:42</td>\n",
       "      <td>2019-07-25</td>\n",
       "      <td>11:48:42</td>\n",
       "    </tr>\n",
       "  </tbody>\n",
       "</table>\n",
       "</div>"
      ],
      "text/plain": [
       "                fecha        date      hora\n",
       "0 2019-07-25 04:43:36  2019-07-25  04:43:36\n",
       "1 2019-07-25 11:11:42  2019-07-25  11:11:42\n",
       "2 2019-07-25 11:28:47  2019-07-25  11:28:47\n",
       "3 2019-07-25 11:28:47  2019-07-25  11:28:47\n",
       "4 2019-07-25 11:48:42  2019-07-25  11:48:42"
      ]
     },
     "execution_count": 109,
     "metadata": {},
     "output_type": "execute_result"
    }
   ],
   "source": [
    "# Convierte la columna 'fecha' de timestamp a datetime\n",
    "logs['fecha'] = pd.to_datetime(logs['fecha'], unit='s')\n",
    "\n",
    "# Extrae solo la fecha\n",
    "logs['date'] = logs['fecha'].dt.date\n",
    "\n",
    "# Extrae solo la hora en formato 'HH:MM:SS'\n",
    "logs['hora'] = logs['fecha'].dt.strftime('%H:%M:%S')\n",
    "\n",
    "# Verifica el resultado\n",
    "logs[['fecha', 'date', 'hora']].head()\n"
   ]
  },
  {
   "cell_type": "code",
   "execution_count": 110,
   "metadata": {},
   "outputs": [
    {
     "data": {
      "text/plain": [
       "evento                   0\n",
       "identificador_usuario    0\n",
       "fecha                    0\n",
       "numero_grupo             0\n",
       "date                     0\n",
       "hora                     0\n",
       "dtype: int64"
      ]
     },
     "metadata": {},
     "output_type": "display_data"
    }
   ],
   "source": [
    "# Verificamos si no hay valores nulos y los sumamos\n",
    "display(logs.isnull().sum())"
   ]
  },
  {
   "cell_type": "markdown",
   "metadata": {},
   "source": [
    "No hay valores nulos"
   ]
  },
  {
   "cell_type": "code",
   "execution_count": 111,
   "metadata": {},
   "outputs": [],
   "source": [
    "# Asegúrate de que 'date' esté en formato datetime\n",
    "logs['date'] = pd.to_datetime(logs['date']).dt.normalize()\n",
    "\n"
   ]
  },
  {
   "cell_type": "code",
   "execution_count": 112,
   "metadata": {},
   "outputs": [
    {
     "name": "stdout",
     "output_type": "stream",
     "text": [
      "<class 'pandas.core.frame.DataFrame'>\n",
      "RangeIndex: 244126 entries, 0 to 244125\n",
      "Data columns (total 6 columns):\n",
      " #   Column                 Non-Null Count   Dtype         \n",
      "---  ------                 --------------   -----         \n",
      " 0   evento                 244126 non-null  object        \n",
      " 1   identificador_usuario  244126 non-null  int64         \n",
      " 2   fecha                  244126 non-null  datetime64[ns]\n",
      " 3   numero_grupo           244126 non-null  int64         \n",
      " 4   date                   244126 non-null  datetime64[ns]\n",
      " 5   hora                   244126 non-null  object        \n",
      "dtypes: datetime64[ns](2), int64(2), object(2)\n",
      "memory usage: 11.2+ MB\n"
     ]
    }
   ],
   "source": [
    "logs.info()"
   ]
  },
  {
   "cell_type": "code",
   "execution_count": 113,
   "metadata": {},
   "outputs": [
    {
     "data": {
      "text/html": [
       "<div>\n",
       "<style scoped>\n",
       "    .dataframe tbody tr th:only-of-type {\n",
       "        vertical-align: middle;\n",
       "    }\n",
       "\n",
       "    .dataframe tbody tr th {\n",
       "        vertical-align: top;\n",
       "    }\n",
       "\n",
       "    .dataframe thead th {\n",
       "        text-align: right;\n",
       "    }\n",
       "</style>\n",
       "<table border=\"1\" class=\"dataframe\">\n",
       "  <thead>\n",
       "    <tr style=\"text-align: right;\">\n",
       "      <th></th>\n",
       "      <th>evento</th>\n",
       "      <th>identificador_usuario</th>\n",
       "      <th>fecha</th>\n",
       "      <th>numero_grupo</th>\n",
       "      <th>date</th>\n",
       "      <th>hora</th>\n",
       "    </tr>\n",
       "  </thead>\n",
       "  <tbody>\n",
       "    <tr>\n",
       "      <th>0</th>\n",
       "      <td>MainScreenAppear</td>\n",
       "      <td>4575588528974610257</td>\n",
       "      <td>2019-07-25 04:43:36</td>\n",
       "      <td>246</td>\n",
       "      <td>2019-07-25</td>\n",
       "      <td>04:43:36</td>\n",
       "    </tr>\n",
       "    <tr>\n",
       "      <th>1</th>\n",
       "      <td>MainScreenAppear</td>\n",
       "      <td>7416695313311560658</td>\n",
       "      <td>2019-07-25 11:11:42</td>\n",
       "      <td>246</td>\n",
       "      <td>2019-07-25</td>\n",
       "      <td>11:11:42</td>\n",
       "    </tr>\n",
       "    <tr>\n",
       "      <th>2</th>\n",
       "      <td>PaymentScreenSuccessful</td>\n",
       "      <td>3518123091307005509</td>\n",
       "      <td>2019-07-25 11:28:47</td>\n",
       "      <td>248</td>\n",
       "      <td>2019-07-25</td>\n",
       "      <td>11:28:47</td>\n",
       "    </tr>\n",
       "    <tr>\n",
       "      <th>3</th>\n",
       "      <td>CartScreenAppear</td>\n",
       "      <td>3518123091307005509</td>\n",
       "      <td>2019-07-25 11:28:47</td>\n",
       "      <td>248</td>\n",
       "      <td>2019-07-25</td>\n",
       "      <td>11:28:47</td>\n",
       "    </tr>\n",
       "    <tr>\n",
       "      <th>4</th>\n",
       "      <td>PaymentScreenSuccessful</td>\n",
       "      <td>6217807653094995999</td>\n",
       "      <td>2019-07-25 11:48:42</td>\n",
       "      <td>248</td>\n",
       "      <td>2019-07-25</td>\n",
       "      <td>11:48:42</td>\n",
       "    </tr>\n",
       "    <tr>\n",
       "      <th>...</th>\n",
       "      <td>...</td>\n",
       "      <td>...</td>\n",
       "      <td>...</td>\n",
       "      <td>...</td>\n",
       "      <td>...</td>\n",
       "      <td>...</td>\n",
       "    </tr>\n",
       "    <tr>\n",
       "      <th>244121</th>\n",
       "      <td>MainScreenAppear</td>\n",
       "      <td>4599628364049201812</td>\n",
       "      <td>2019-08-07 21:12:25</td>\n",
       "      <td>247</td>\n",
       "      <td>2019-08-07</td>\n",
       "      <td>21:12:25</td>\n",
       "    </tr>\n",
       "    <tr>\n",
       "      <th>244122</th>\n",
       "      <td>MainScreenAppear</td>\n",
       "      <td>5849806612437486590</td>\n",
       "      <td>2019-08-07 21:13:59</td>\n",
       "      <td>246</td>\n",
       "      <td>2019-08-07</td>\n",
       "      <td>21:13:59</td>\n",
       "    </tr>\n",
       "    <tr>\n",
       "      <th>244123</th>\n",
       "      <td>MainScreenAppear</td>\n",
       "      <td>5746969938801999050</td>\n",
       "      <td>2019-08-07 21:14:43</td>\n",
       "      <td>246</td>\n",
       "      <td>2019-08-07</td>\n",
       "      <td>21:14:43</td>\n",
       "    </tr>\n",
       "    <tr>\n",
       "      <th>244124</th>\n",
       "      <td>MainScreenAppear</td>\n",
       "      <td>5746969938801999050</td>\n",
       "      <td>2019-08-07 21:14:58</td>\n",
       "      <td>246</td>\n",
       "      <td>2019-08-07</td>\n",
       "      <td>21:14:58</td>\n",
       "    </tr>\n",
       "    <tr>\n",
       "      <th>244125</th>\n",
       "      <td>OffersScreenAppear</td>\n",
       "      <td>5746969938801999050</td>\n",
       "      <td>2019-08-07 21:15:17</td>\n",
       "      <td>246</td>\n",
       "      <td>2019-08-07</td>\n",
       "      <td>21:15:17</td>\n",
       "    </tr>\n",
       "  </tbody>\n",
       "</table>\n",
       "<p>244126 rows × 6 columns</p>\n",
       "</div>"
      ],
      "text/plain": [
       "                         evento  identificador_usuario               fecha  \\\n",
       "0              MainScreenAppear    4575588528974610257 2019-07-25 04:43:36   \n",
       "1              MainScreenAppear    7416695313311560658 2019-07-25 11:11:42   \n",
       "2       PaymentScreenSuccessful    3518123091307005509 2019-07-25 11:28:47   \n",
       "3              CartScreenAppear    3518123091307005509 2019-07-25 11:28:47   \n",
       "4       PaymentScreenSuccessful    6217807653094995999 2019-07-25 11:48:42   \n",
       "...                         ...                    ...                 ...   \n",
       "244121         MainScreenAppear    4599628364049201812 2019-08-07 21:12:25   \n",
       "244122         MainScreenAppear    5849806612437486590 2019-08-07 21:13:59   \n",
       "244123         MainScreenAppear    5746969938801999050 2019-08-07 21:14:43   \n",
       "244124         MainScreenAppear    5746969938801999050 2019-08-07 21:14:58   \n",
       "244125       OffersScreenAppear    5746969938801999050 2019-08-07 21:15:17   \n",
       "\n",
       "        numero_grupo       date      hora  \n",
       "0                246 2019-07-25  04:43:36  \n",
       "1                246 2019-07-25  11:11:42  \n",
       "2                248 2019-07-25  11:28:47  \n",
       "3                248 2019-07-25  11:28:47  \n",
       "4                248 2019-07-25  11:48:42  \n",
       "...              ...        ...       ...  \n",
       "244121           247 2019-08-07  21:12:25  \n",
       "244122           246 2019-08-07  21:13:59  \n",
       "244123           246 2019-08-07  21:14:43  \n",
       "244124           246 2019-08-07  21:14:58  \n",
       "244125           246 2019-08-07  21:15:17  \n",
       "\n",
       "[244126 rows x 6 columns]"
      ]
     },
     "execution_count": 113,
     "metadata": {},
     "output_type": "execute_result"
    }
   ],
   "source": [
    "logs"
   ]
  },
  {
   "cell_type": "markdown",
   "metadata": {},
   "source": [
    "## Paso 3. Estudiar y comprobar los datos\n",
    "\n",
    "- 3.1 ¿Cuántos eventos hay en los registros?\n",
    "- 3.2 ¿Cuántos usuarios y usuarias hay en los registros?\n",
    "- 3.3 ¿Cuál es el promedio de eventos por usuario?\n",
    "- 3.4 ¿Qué periodo de tiempo cubren los datos? Encuentra la fecha máxima y mínima. Traza un histograma por fecha y hora. ¿Puedes tener seguridad de que tienes datos igualmente completos para todo el periodo? Los eventos más antiguos podrían terminar en los registros de algunos usuarios o usuarias por razones técnicas y esto podría sesgar el panorama general. Encuentra el momento en el que los datos comienzan a estar completos e ignora la sección anterior. ¿Qué periodo representan realmente los datos?\n",
    "- 3.5 ¿Perdiste muchos eventos y usuarios al excluir los datos más antiguos?\n",
    "\n",
    "Asegúrate de tener usuarios y usuarias de los tres grupos experimentales."
   ]
  },
  {
   "cell_type": "markdown",
   "metadata": {},
   "source": [
    "### 3.1 ¿Cuántos eventos hay en los registros?"
   ]
  },
  {
   "cell_type": "code",
   "execution_count": 114,
   "metadata": {},
   "outputs": [
    {
     "data": {
      "text/plain": [
       "evento\n",
       "MainScreenAppear           119205\n",
       "OffersScreenAppear          46825\n",
       "CartScreenAppear            42731\n",
       "PaymentScreenSuccessful     34313\n",
       "Tutorial                     1052\n",
       "Name: count, dtype: int64"
      ]
     },
     "execution_count": 114,
     "metadata": {},
     "output_type": "execute_result"
    }
   ],
   "source": [
    "# Conteo de cada evento registrado\n",
    "logs['evento'].value_counts()"
   ]
  },
  {
   "cell_type": "code",
   "execution_count": 115,
   "metadata": {},
   "outputs": [
    {
     "data": {
      "text/plain": [
       "np.int64(244126)"
      ]
     },
     "execution_count": 115,
     "metadata": {},
     "output_type": "execute_result"
    }
   ],
   "source": [
    "# Conteo de todos los eventos juntos\n",
    "total_eventos = logs['evento'].count()\n",
    "total_eventos"
   ]
  },
  {
   "cell_type": "markdown",
   "metadata": {},
   "source": [
    "### 3.2 ¿Cuántos eventos hay en los registros?"
   ]
  },
  {
   "cell_type": "code",
   "execution_count": 116,
   "metadata": {},
   "outputs": [
    {
     "data": {
      "text/plain": [
       "7551"
      ]
     },
     "execution_count": 116,
     "metadata": {},
     "output_type": "execute_result"
    }
   ],
   "source": [
    "total_usuarios = logs['identificador_usuario'].nunique()\n",
    "total_usuarios"
   ]
  },
  {
   "cell_type": "markdown",
   "metadata": {},
   "source": [
    "### 3.3 ¿Cuál es el promedio de eventos por usuario?"
   ]
  },
  {
   "cell_type": "code",
   "execution_count": 117,
   "metadata": {},
   "outputs": [
    {
     "data": {
      "text/plain": [
       "np.float64(32.33028737915508)"
      ]
     },
     "execution_count": 117,
     "metadata": {},
     "output_type": "execute_result"
    }
   ],
   "source": [
    "promedio_eventos_por_usuario = logs['evento'].count() / logs['identificador_usuario'].nunique()\n",
    "promedio_eventos_por_usuario"
   ]
  },
  {
   "cell_type": "markdown",
   "metadata": {},
   "source": [
    "### 3.4 ¿Qué periodo de tiempo cubren los datos?\n",
    "### Encuentra la fecha máxima y mínima. Traza un histograma por fecha y hora. \n",
    "### ¿Puedes tener seguridad de que tienes datos igualmente completos para todo el periodo?\n",
    "### Los eventos más antiguos podrían terminar en los registros de algunos usuarios o usuarias por razones técnicas y esto podría sesgar el panorama general.\n",
    "### Encuentra el momento en el que los datos comienzan a estar completos e ignora la sección anterior.\n",
    "### ¿Qué periodo representan realmente los datos?"
   ]
  },
  {
   "cell_type": "code",
   "execution_count": 118,
   "metadata": {},
   "outputs": [
    {
     "data": {
      "text/plain": [
       "'El periodo de tiempo cubierto por los datos es desde 2019-07-25 04:43:36 hasta 2019-08-07 21:15:17.'"
      ]
     },
     "metadata": {},
     "output_type": "display_data"
    }
   ],
   "source": [
    "# Obtener la fecha mínima y máxima\n",
    "fecha_minima = logs['fecha'].min()\n",
    "fecha_maxima = logs['fecha'].max()\n",
    "\n",
    "display(f\"El periodo de tiempo cubierto por los datos es desde {fecha_minima} hasta {fecha_maxima}.\")"
   ]
  },
  {
   "cell_type": "code",
   "execution_count": 119,
   "metadata": {},
   "outputs": [
    {
     "data": {
      "text/html": [
       "<div>\n",
       "<style scoped>\n",
       "    .dataframe tbody tr th:only-of-type {\n",
       "        vertical-align: middle;\n",
       "    }\n",
       "\n",
       "    .dataframe tbody tr th {\n",
       "        vertical-align: top;\n",
       "    }\n",
       "\n",
       "    .dataframe thead th {\n",
       "        text-align: right;\n",
       "    }\n",
       "</style>\n",
       "<table border=\"1\" class=\"dataframe\">\n",
       "  <thead>\n",
       "    <tr style=\"text-align: right;\">\n",
       "      <th></th>\n",
       "      <th>evento</th>\n",
       "      <th>identificador_usuario</th>\n",
       "      <th>fecha</th>\n",
       "      <th>numero_grupo</th>\n",
       "      <th>date</th>\n",
       "      <th>hora</th>\n",
       "    </tr>\n",
       "  </thead>\n",
       "  <tbody>\n",
       "    <tr>\n",
       "      <th>0</th>\n",
       "      <td>MainScreenAppear</td>\n",
       "      <td>4575588528974610257</td>\n",
       "      <td>2019-07-25 04:43:36</td>\n",
       "      <td>246</td>\n",
       "      <td>2019-07-25</td>\n",
       "      <td>04:43:36</td>\n",
       "    </tr>\n",
       "    <tr>\n",
       "      <th>1</th>\n",
       "      <td>MainScreenAppear</td>\n",
       "      <td>7416695313311560658</td>\n",
       "      <td>2019-07-25 11:11:42</td>\n",
       "      <td>246</td>\n",
       "      <td>2019-07-25</td>\n",
       "      <td>11:11:42</td>\n",
       "    </tr>\n",
       "    <tr>\n",
       "      <th>2</th>\n",
       "      <td>PaymentScreenSuccessful</td>\n",
       "      <td>3518123091307005509</td>\n",
       "      <td>2019-07-25 11:28:47</td>\n",
       "      <td>248</td>\n",
       "      <td>2019-07-25</td>\n",
       "      <td>11:28:47</td>\n",
       "    </tr>\n",
       "    <tr>\n",
       "      <th>3</th>\n",
       "      <td>CartScreenAppear</td>\n",
       "      <td>3518123091307005509</td>\n",
       "      <td>2019-07-25 11:28:47</td>\n",
       "      <td>248</td>\n",
       "      <td>2019-07-25</td>\n",
       "      <td>11:28:47</td>\n",
       "    </tr>\n",
       "    <tr>\n",
       "      <th>4</th>\n",
       "      <td>PaymentScreenSuccessful</td>\n",
       "      <td>6217807653094995999</td>\n",
       "      <td>2019-07-25 11:48:42</td>\n",
       "      <td>248</td>\n",
       "      <td>2019-07-25</td>\n",
       "      <td>11:48:42</td>\n",
       "    </tr>\n",
       "    <tr>\n",
       "      <th>...</th>\n",
       "      <td>...</td>\n",
       "      <td>...</td>\n",
       "      <td>...</td>\n",
       "      <td>...</td>\n",
       "      <td>...</td>\n",
       "      <td>...</td>\n",
       "    </tr>\n",
       "    <tr>\n",
       "      <th>244121</th>\n",
       "      <td>MainScreenAppear</td>\n",
       "      <td>4599628364049201812</td>\n",
       "      <td>2019-08-07 21:12:25</td>\n",
       "      <td>247</td>\n",
       "      <td>2019-08-07</td>\n",
       "      <td>21:12:25</td>\n",
       "    </tr>\n",
       "    <tr>\n",
       "      <th>244122</th>\n",
       "      <td>MainScreenAppear</td>\n",
       "      <td>5849806612437486590</td>\n",
       "      <td>2019-08-07 21:13:59</td>\n",
       "      <td>246</td>\n",
       "      <td>2019-08-07</td>\n",
       "      <td>21:13:59</td>\n",
       "    </tr>\n",
       "    <tr>\n",
       "      <th>244123</th>\n",
       "      <td>MainScreenAppear</td>\n",
       "      <td>5746969938801999050</td>\n",
       "      <td>2019-08-07 21:14:43</td>\n",
       "      <td>246</td>\n",
       "      <td>2019-08-07</td>\n",
       "      <td>21:14:43</td>\n",
       "    </tr>\n",
       "    <tr>\n",
       "      <th>244124</th>\n",
       "      <td>MainScreenAppear</td>\n",
       "      <td>5746969938801999050</td>\n",
       "      <td>2019-08-07 21:14:58</td>\n",
       "      <td>246</td>\n",
       "      <td>2019-08-07</td>\n",
       "      <td>21:14:58</td>\n",
       "    </tr>\n",
       "    <tr>\n",
       "      <th>244125</th>\n",
       "      <td>OffersScreenAppear</td>\n",
       "      <td>5746969938801999050</td>\n",
       "      <td>2019-08-07 21:15:17</td>\n",
       "      <td>246</td>\n",
       "      <td>2019-08-07</td>\n",
       "      <td>21:15:17</td>\n",
       "    </tr>\n",
       "  </tbody>\n",
       "</table>\n",
       "<p>244126 rows × 6 columns</p>\n",
       "</div>"
      ],
      "text/plain": [
       "                         evento  identificador_usuario               fecha  \\\n",
       "0              MainScreenAppear    4575588528974610257 2019-07-25 04:43:36   \n",
       "1              MainScreenAppear    7416695313311560658 2019-07-25 11:11:42   \n",
       "2       PaymentScreenSuccessful    3518123091307005509 2019-07-25 11:28:47   \n",
       "3              CartScreenAppear    3518123091307005509 2019-07-25 11:28:47   \n",
       "4       PaymentScreenSuccessful    6217807653094995999 2019-07-25 11:48:42   \n",
       "...                         ...                    ...                 ...   \n",
       "244121         MainScreenAppear    4599628364049201812 2019-08-07 21:12:25   \n",
       "244122         MainScreenAppear    5849806612437486590 2019-08-07 21:13:59   \n",
       "244123         MainScreenAppear    5746969938801999050 2019-08-07 21:14:43   \n",
       "244124         MainScreenAppear    5746969938801999050 2019-08-07 21:14:58   \n",
       "244125       OffersScreenAppear    5746969938801999050 2019-08-07 21:15:17   \n",
       "\n",
       "        numero_grupo       date      hora  \n",
       "0                246 2019-07-25  04:43:36  \n",
       "1                246 2019-07-25  11:11:42  \n",
       "2                248 2019-07-25  11:28:47  \n",
       "3                248 2019-07-25  11:28:47  \n",
       "4                248 2019-07-25  11:48:42  \n",
       "...              ...        ...       ...  \n",
       "244121           247 2019-08-07  21:12:25  \n",
       "244122           246 2019-08-07  21:13:59  \n",
       "244123           246 2019-08-07  21:14:43  \n",
       "244124           246 2019-08-07  21:14:58  \n",
       "244125           246 2019-08-07  21:15:17  \n",
       "\n",
       "[244126 rows x 6 columns]"
      ]
     },
     "execution_count": 119,
     "metadata": {},
     "output_type": "execute_result"
    }
   ],
   "source": [
    "logs"
   ]
  },
  {
   "cell_type": "code",
   "execution_count": 120,
   "metadata": {},
   "outputs": [
    {
     "data": {
      "image/png": "[encoded data removed]",
      "text/plain": [
       "<Figure size 1000x600 with 1 Axes>"
      ]
     },
     "metadata": {},
     "output_type": "display_data"
    }
   ],
   "source": [
    "# Crear una nueva variable que combine 'date' y 'hora'\n",
    "fecha_hora = pd.to_datetime(logs['date'].astype(str) + ' ' + logs['hora'])\n",
    "\n",
    "# Trazar el histograma\n",
    "plt.figure(figsize=(10, 6))\n",
    "plt.hist(fecha_hora, bins=30, color='blue', alpha=0.7)\n",
    "plt.title('Histograma de Eventos por Fecha y Hora')\n",
    "plt.xlabel('Fecha y Hora')\n",
    "plt.ylabel('Frecuencia de Eventos')\n",
    "plt.xticks(rotation=45)\n",
    "plt.tight_layout()\n",
    "plt.show()"
   ]
  },
  {
   "cell_type": "markdown",
   "metadata": {},
   "source": [
    "### Grafica que muestra la frecuencia de eventos por fecha y hora entre el 25 de julio y el 7 de agosto de 2019. \n",
    "\n",
    "- Se aprecia un aumento gradual en la frecuencia de eventos a partir del 30 de julio de 2019.\n",
    "- La frecuencia máxima de eventos se alcanza entre el 2 y el 3 de agosto, con un pico de aproximadamente 25,000 eventos.\n",
    "- Después de este pico, la frecuencia de eventos muestra una disminución seguida de fluctuaciones significativas."
   ]
  },
  {
   "cell_type": "code",
   "execution_count": 121,
   "metadata": {},
   "outputs": [
    {
     "data": {
      "text/html": [
       "<div>\n",
       "<style scoped>\n",
       "    .dataframe tbody tr th:only-of-type {\n",
       "        vertical-align: middle;\n",
       "    }\n",
       "\n",
       "    .dataframe tbody tr th {\n",
       "        vertical-align: top;\n",
       "    }\n",
       "\n",
       "    .dataframe thead th {\n",
       "        text-align: right;\n",
       "    }\n",
       "</style>\n",
       "<table border=\"1\" class=\"dataframe\">\n",
       "  <thead>\n",
       "    <tr style=\"text-align: right;\">\n",
       "      <th></th>\n",
       "      <th>evento</th>\n",
       "      <th>identificador_usuario</th>\n",
       "      <th>fecha</th>\n",
       "      <th>numero_grupo</th>\n",
       "      <th>date</th>\n",
       "      <th>hora</th>\n",
       "    </tr>\n",
       "  </thead>\n",
       "  <tbody>\n",
       "    <tr>\n",
       "      <th>0</th>\n",
       "      <td>MainScreenAppear</td>\n",
       "      <td>4575588528974610257</td>\n",
       "      <td>2019-07-25 04:43:36</td>\n",
       "      <td>246</td>\n",
       "      <td>2019-07-25</td>\n",
       "      <td>04:43:36</td>\n",
       "    </tr>\n",
       "    <tr>\n",
       "      <th>1</th>\n",
       "      <td>MainScreenAppear</td>\n",
       "      <td>7416695313311560658</td>\n",
       "      <td>2019-07-25 11:11:42</td>\n",
       "      <td>246</td>\n",
       "      <td>2019-07-25</td>\n",
       "      <td>11:11:42</td>\n",
       "    </tr>\n",
       "    <tr>\n",
       "      <th>2</th>\n",
       "      <td>PaymentScreenSuccessful</td>\n",
       "      <td>3518123091307005509</td>\n",
       "      <td>2019-07-25 11:28:47</td>\n",
       "      <td>248</td>\n",
       "      <td>2019-07-25</td>\n",
       "      <td>11:28:47</td>\n",
       "    </tr>\n",
       "    <tr>\n",
       "      <th>3</th>\n",
       "      <td>CartScreenAppear</td>\n",
       "      <td>3518123091307005509</td>\n",
       "      <td>2019-07-25 11:28:47</td>\n",
       "      <td>248</td>\n",
       "      <td>2019-07-25</td>\n",
       "      <td>11:28:47</td>\n",
       "    </tr>\n",
       "    <tr>\n",
       "      <th>4</th>\n",
       "      <td>PaymentScreenSuccessful</td>\n",
       "      <td>6217807653094995999</td>\n",
       "      <td>2019-07-25 11:48:42</td>\n",
       "      <td>248</td>\n",
       "      <td>2019-07-25</td>\n",
       "      <td>11:48:42</td>\n",
       "    </tr>\n",
       "    <tr>\n",
       "      <th>...</th>\n",
       "      <td>...</td>\n",
       "      <td>...</td>\n",
       "      <td>...</td>\n",
       "      <td>...</td>\n",
       "      <td>...</td>\n",
       "      <td>...</td>\n",
       "    </tr>\n",
       "    <tr>\n",
       "      <th>244121</th>\n",
       "      <td>MainScreenAppear</td>\n",
       "      <td>4599628364049201812</td>\n",
       "      <td>2019-08-07 21:12:25</td>\n",
       "      <td>247</td>\n",
       "      <td>2019-08-07</td>\n",
       "      <td>21:12:25</td>\n",
       "    </tr>\n",
       "    <tr>\n",
       "      <th>244122</th>\n",
       "      <td>MainScreenAppear</td>\n",
       "      <td>5849806612437486590</td>\n",
       "      <td>2019-08-07 21:13:59</td>\n",
       "      <td>246</td>\n",
       "      <td>2019-08-07</td>\n",
       "      <td>21:13:59</td>\n",
       "    </tr>\n",
       "    <tr>\n",
       "      <th>244123</th>\n",
       "      <td>MainScreenAppear</td>\n",
       "      <td>5746969938801999050</td>\n",
       "      <td>2019-08-07 21:14:43</td>\n",
       "      <td>246</td>\n",
       "      <td>2019-08-07</td>\n",
       "      <td>21:14:43</td>\n",
       "    </tr>\n",
       "    <tr>\n",
       "      <th>244124</th>\n",
       "      <td>MainScreenAppear</td>\n",
       "      <td>5746969938801999050</td>\n",
       "      <td>2019-08-07 21:14:58</td>\n",
       "      <td>246</td>\n",
       "      <td>2019-08-07</td>\n",
       "      <td>21:14:58</td>\n",
       "    </tr>\n",
       "    <tr>\n",
       "      <th>244125</th>\n",
       "      <td>OffersScreenAppear</td>\n",
       "      <td>5746969938801999050</td>\n",
       "      <td>2019-08-07 21:15:17</td>\n",
       "      <td>246</td>\n",
       "      <td>2019-08-07</td>\n",
       "      <td>21:15:17</td>\n",
       "    </tr>\n",
       "  </tbody>\n",
       "</table>\n",
       "<p>244126 rows × 6 columns</p>\n",
       "</div>"
      ],
      "text/plain": [
       "                         evento  identificador_usuario               fecha  \\\n",
       "0              MainScreenAppear    4575588528974610257 2019-07-25 04:43:36   \n",
       "1              MainScreenAppear    7416695313311560658 2019-07-25 11:11:42   \n",
       "2       PaymentScreenSuccessful    3518123091307005509 2019-07-25 11:28:47   \n",
       "3              CartScreenAppear    3518123091307005509 2019-07-25 11:28:47   \n",
       "4       PaymentScreenSuccessful    6217807653094995999 2019-07-25 11:48:42   \n",
       "...                         ...                    ...                 ...   \n",
       "244121         MainScreenAppear    4599628364049201812 2019-08-07 21:12:25   \n",
       "244122         MainScreenAppear    5849806612437486590 2019-08-07 21:13:59   \n",
       "244123         MainScreenAppear    5746969938801999050 2019-08-07 21:14:43   \n",
       "244124         MainScreenAppear    5746969938801999050 2019-08-07 21:14:58   \n",
       "244125       OffersScreenAppear    5746969938801999050 2019-08-07 21:15:17   \n",
       "\n",
       "        numero_grupo       date      hora  \n",
       "0                246 2019-07-25  04:43:36  \n",
       "1                246 2019-07-25  11:11:42  \n",
       "2                248 2019-07-25  11:28:47  \n",
       "3                248 2019-07-25  11:28:47  \n",
       "4                248 2019-07-25  11:48:42  \n",
       "...              ...        ...       ...  \n",
       "244121           247 2019-08-07  21:12:25  \n",
       "244122           246 2019-08-07  21:13:59  \n",
       "244123           246 2019-08-07  21:14:43  \n",
       "244124           246 2019-08-07  21:14:58  \n",
       "244125           246 2019-08-07  21:15:17  \n",
       "\n",
       "[244126 rows x 6 columns]"
      ]
     },
     "execution_count": 121,
     "metadata": {},
     "output_type": "execute_result"
    }
   ],
   "source": [
    "logs"
   ]
  },
  {
   "cell_type": "markdown",
   "metadata": {},
   "source": [
    "### ¿Puedes tener seguridad de que tienes datos igualmente completos para todo el periodo?"
   ]
  },
  {
   "cell_type": "code",
   "execution_count": 122,
   "metadata": {},
   "outputs": [
    {
     "data": {
      "text/plain": [
       "date\n",
       "2019-07-25        9\n",
       "2019-07-26       31\n",
       "2019-07-27       55\n",
       "2019-07-28      105\n",
       "2019-07-29      184\n",
       "2019-07-30      413\n",
       "2019-07-31     2031\n",
       "2019-08-01    36229\n",
       "2019-08-02    35606\n",
       "2019-08-03    33351\n",
       "2019-08-04    33033\n",
       "2019-08-05    36113\n",
       "2019-08-06    35822\n",
       "2019-08-07    31144\n",
       "dtype: int64"
      ]
     },
     "execution_count": 122,
     "metadata": {},
     "output_type": "execute_result"
    }
   ],
   "source": [
    "# Agrupa el Df y luego contamos el numero de eventos \n",
    "conteo_por_dia = logs.groupby('date').size()\n",
    "conteo_por_dia"
   ]
  },
  {
   "cell_type": "code",
   "execution_count": 123,
   "metadata": {},
   "outputs": [
    {
     "data": {
      "image/png": "[encoded data removed]",
      "text/plain": [
       "<Figure size 1000x600 with 1 Axes>"
      ]
     },
     "metadata": {},
     "output_type": "display_data"
    }
   ],
   "source": [
    "# Graficamos el comportamiento de los datos de la tabla logs\n",
    "plt.figure(figsize=(10, 6))\n",
    "conteo_por_dia.plot(kind='bar', color='skyblue')\n",
    "plt.title(\"Frecuencia de Eventos por Día\")\n",
    "plt.xlabel(\"Fecha\")\n",
    "plt.ylabel(\"Número de Eventos\")\n",
    "plt.xticks(rotation=45)\n",
    "plt.grid(True)\n",
    "plt.show()"
   ]
  },
  {
   "cell_type": "markdown",
   "metadata": {},
   "source": [
    "### Basándonos en la gráfica de frecuencia de eventos por día, podemos observar lo siguiente:\n",
    "\n",
    "- Período con baja frecuencia de eventos: Desde el 25 de julio hasta el 31 de julio de 2019, el número de eventos es extremadamente bajo en comparación con los días posteriores. Esto sugiere que los datos en esta primera parte del periodo están incompletos o presentan lagunas significativas.\n",
    "\n",
    "- Período con alta frecuencia de eventos: A partir del 1 de agosto de 2019, la cantidad de eventos por día aumenta considerablemente y se mantiene relativamente constante hasta el 7 de agosto de 2019. Este patrón indica que los datos para este periodo son consistentes y completos en comparación con los días anteriores.\n",
    "\n",
    "- Conclusión: No podemos asegurar que los datos estén igualmente completos para todo el periodo, ya que existe una clara discrepancia en la cantidad de eventos entre los primeros días y los días posteriores. Esta variación sugiere que el análisis de comportamiento de usuario podría estar sesgado si se incluye el periodo inicial, ya que no refleja la misma densidad de datos que el resto del conjunto.\n",
    "\n",
    "Por lo tanto, sería recomendable sugerir enfocar el análisis principal en el periodo desde el 1 de agosto en adelante, donde los datos parecen ser más completos y consistentes."
   ]
  },
  {
   "cell_type": "markdown",
   "metadata": {},
   "source": [
    "### Los eventos más antiguos podrían terminar en los registros de algunos usuarios o usuarias por razones técnicas y esto podría sesgar el panorama general. "
   ]
  },
  {
   "cell_type": "code",
   "execution_count": 124,
   "metadata": {},
   "outputs": [
    {
     "data": {
      "text/plain": [
       "'Número de eventos después de limpiar el periodo incompleto: 241298'"
      ]
     },
     "metadata": {},
     "output_type": "display_data"
    }
   ],
   "source": [
    "# Convertimos la columna 'date' a formato de fecha, si no lo está ya\n",
    "logs['date'] = pd.to_datetime(logs['date'])\n",
    "\n",
    "# Filtramos el DataFrame para incluir solo los eventos desde el 1 de agosto de 2019\n",
    "clean_logs = logs[logs['date'] >= '2019-08-01']\n",
    "\n",
    "# Verificamos el resultado\n",
    "clean_logs.head()\n",
    "display(f\"Número de eventos después de limpiar el periodo incompleto: {clean_logs.shape[0]}\")"
   ]
  },
  {
   "cell_type": "code",
   "execution_count": 125,
   "metadata": {},
   "outputs": [
    {
     "data": {
      "text/plain": [
       "date\n",
       "2019-08-01    36229\n",
       "2019-08-02    35606\n",
       "2019-08-03    33351\n",
       "2019-08-04    33033\n",
       "2019-08-05    36113\n",
       "2019-08-06    35822\n",
       "2019-08-07    31144\n",
       "dtype: int64"
      ]
     },
     "execution_count": 125,
     "metadata": {},
     "output_type": "execute_result"
    }
   ],
   "source": [
    "# Nos aseguramos de la limpieza\n",
    "conteo_clean_logs = clean_logs.groupby('date').size()\n",
    "conteo_clean_logs"
   ]
  },
  {
   "cell_type": "code",
   "execution_count": 126,
   "metadata": {},
   "outputs": [
    {
     "data": {
      "image/png": "[encoded data removed]",
      "text/plain": [
       "<Figure size 1000x600 with 1 Axes>"
      ]
     },
     "metadata": {},
     "output_type": "display_data"
    }
   ],
   "source": [
    "# Graficamos los datos \n",
    "plt.figure(figsize=(10, 6))\n",
    "conteo_clean_logs.plot(kind='bar', color='skyblue')\n",
    "plt.title(\"Frecuencia de Eventos por Día\")\n",
    "plt.xlabel(\"Fecha\")\n",
    "plt.ylabel(\"Número de Eventos\")\n",
    "plt.xticks(rotation=45)\n",
    "plt.grid(True)\n",
    "plt.show()"
   ]
  },
  {
   "cell_type": "markdown",
   "metadata": {},
   "source": [
    " ### Los datos realmente representan de manera consistente el periodo del 1 de agosto de 2019 al 7 de agosto de 2019. \n",
    " - Este es el rango en el que vemos una cantidad significativa y relativamente estable de eventos por día, indicando que los datos están completos y pueden ser utilizados para un análisis confiable.\n",
    "\n",
    "- El periodo anterior, del 25 de julio al 31 de julio de 2019, tiene muy pocos eventos registrados, lo que sugiere que los datos para esos días están incompletos y podrían no ser representativos del comportamiento de usuario en general."
   ]
  },
  {
   "cell_type": "markdown",
   "metadata": {},
   "source": [
    "## 3.5 ¿Perdiste muchos eventos y usuarios al excluir los datos más antiguos?"
   ]
  },
  {
   "cell_type": "code",
   "execution_count": 127,
   "metadata": {},
   "outputs": [
    {
     "name": "stdout",
     "output_type": "stream",
     "text": [
      "Número total de eventos originales: 244126\n",
      "Número total de usuarios originales: 7551\n",
      "Número total de eventos después del filtro: 241298\n",
      "Número total de usuarios después del filtro: 7534\n",
      "Eventos perdidos al excluir datos más antiguos: 2828\n",
      "Usuarios perdidos al excluir datos más antiguos: 17\n"
     ]
    }
   ],
   "source": [
    "# Contar eventos y usuarios en el DataFrame original\n",
    "total_eventos_original = logs.shape[0]\n",
    "total_usuarios_original = logs['identificador_usuario'].nunique()\n",
    "\n",
    "# Contar eventos y usuarios en el DataFrame filtrado\n",
    "total_eventos_filtrados = clean_logs.shape[0]\n",
    "total_usuarios_filtrados = clean_logs['identificador_usuario'].nunique()\n",
    "\n",
    "# Mostrar resultados\n",
    "print(f\"Número total de eventos originales: {total_eventos_original}\")\n",
    "print(f\"Número total de usuarios originales: {total_usuarios_original}\")\n",
    "print(f\"Número total de eventos después del filtro: {total_eventos_filtrados}\")\n",
    "print(f\"Número total de usuarios después del filtro: {total_usuarios_filtrados}\")\n",
    "\n",
    "# Calcular las pérdidas\n",
    "eventos_perdidos = total_eventos_original - total_eventos_filtrados\n",
    "usuarios_perdidos = total_usuarios_original - total_usuarios_filtrados\n",
    "\n",
    "print(f\"Eventos perdidos al excluir datos más antiguos: {eventos_perdidos}\")\n",
    "print(f\"Usuarios perdidos al excluir datos más antiguos: {usuarios_perdidos}\")"
   ]
  },
  {
   "cell_type": "markdown",
   "metadata": {},
   "source": [
    "## Análisis de Pérdida de Eventos y Usuarios tras la Exclusión de Datos Más Antiguos\n",
    "\n",
    "Después de aplicar el filtro que excluye los datos más antiguos, se realizó un análisis comparativo entre el conjunto de datos original y el conjunto filtrado. \n",
    "\n",
    "Los resultados son los siguientes:\n",
    "\n",
    "- Número total de eventos originales: 244,126\n",
    "- Número total de usuarios originales: 7,551\n",
    "\n",
    "### Tras la aplicación del filtro, los números cambiaron a:\n",
    "\n",
    "#### - Número total de eventos después del filtro: 241,298\n",
    "#### - Número total de usuarios después del filtro: 7,534"
   ]
  },
  {
   "cell_type": "markdown",
   "metadata": {},
   "source": [
    "## 3.6 Asegúrate de tener usuarios y usuarias de los tres grupos experimentales."
   ]
  },
  {
   "cell_type": "code",
   "execution_count": 128,
   "metadata": {},
   "outputs": [
    {
     "name": "stdout",
     "output_type": "stream",
     "text": [
      "Grupos experimentales identificados en clean_logs: [246 247 248]\n",
      "Número de usuarios por grupo experimental en clean_logs:\n",
      "numero_grupo\n",
      "246    2484\n",
      "247    2513\n",
      "248    2537\n",
      "Name: identificador_usuario, dtype: int64\n",
      "Todos los grupos experimentales tienen usuarios en clean_logs.\n"
     ]
    }
   ],
   "source": [
    "# Verificar los grupos experimentales en clean_logs\n",
    "grupos_experimentales = clean_logs['numero_grupo'].unique()\n",
    "print(f\"Grupos experimentales identificados en clean_logs: {grupos_experimentales}\")\n",
    "\n",
    "# Contar usuarios únicos en cada grupo de clean_logs\n",
    "usuarios_por_grupo = clean_logs.groupby('numero_grupo')['identificador_usuario'].nunique()\n",
    "\n",
    "# Mostrar el conteo de usuarios por grupo\n",
    "print(\"Número de usuarios por grupo experimental en clean_logs:\")\n",
    "print(usuarios_por_grupo)\n",
    "\n",
    "# Verificar si hay usuarios en los tres grupos\n",
    "grupos_con_usuarios = usuarios_por_grupo[usuarios_por_grupo > 0]\n",
    "\n",
    "if len(grupos_con_usuarios) == 3:\n",
    "    print(\"Todos los grupos experimentales tienen usuarios en clean_logs.\")\n",
    "else:\n",
    "    print(\"Faltan grupos experimentales con usuarios en clean_logs.\")\n"
   ]
  },
  {
   "cell_type": "markdown",
   "metadata": {},
   "source": [
    "### Análisis de Usuarios por Grupo Experimental en clean_logs\n",
    "\n",
    "Se identificaron los siguientes grupos experimentales en el conjunto de datos clean_logs: 246, 247 y 248. A continuación, se detalla el número de usuarios únicos registrados en cada uno de estos grupos:\n",
    "\n",
    "#### Grupo 246: 2,484 usuarios\n",
    "#### Grupo 247: 2,513 usuarios\n",
    "#### Grupo 248: 2,537 usuarios\n",
    "\n",
    "Estos resultados sugieren que todos los grupos experimentales están representados en el conjunto de datos."
   ]
  },
  {
   "cell_type": "markdown",
   "metadata": {},
   "source": [
    "## Paso 4. Estudiar el embudo de eventos\n",
    "\n",
    "#### - 4.1 Observa qué eventos hay en los registros y su frecuencia de suceso. Ordénalos por frecuencia.\n",
    "#### - 4.2 Encuentra la cantidad de usuarios y usuarias que realizaron cada una de estas acciones. Ordena los eventos por el número de usuarios y usuarias. Calcula la proporción de usuarios y usuarias que realizaron la acción al menos una vez.\n",
    "#### - 4.3 ¿En qué orden crees que ocurrieron las acciones? ¿Todas son parte de una sola secuencia? No es necesario tenerlas en cuenta al calcular el embudo.\n",
    "#### - 4.5 Utiliza el embudo de eventos para encontrar la proporción de usuarios y usuarias que pasan de una etapa a la siguiente. (Por ejemplo, para la secuencia de eventos A → B → C, calcula la proporción de usuarios en la etapa B a la cantidad de usuarios en la etapa A y la proporción de usuarios en la etapa C a la cantidad en la etapa B).\n",
    "#### - 4.6 ¿En qué etapa pierdes más usuarios y usuarias?\n",
    "#### - 4.7¿Qué porcentaje de usuarios y usuarias hace todo el viaje desde su primer evento hasta el pago?"
   ]
  },
  {
   "cell_type": "markdown",
   "metadata": {},
   "source": [
    "## 4.1 Observa qué eventos hay en los registros y su frecuencia de suceso. Ordénalos por frecuencia."
   ]
  },
  {
   "cell_type": "code",
   "execution_count": 129,
   "metadata": {},
   "outputs": [
    {
     "data": {
      "text/plain": [
       "evento\n",
       "MainScreenAppear           117431\n",
       "OffersScreenAppear          46350\n",
       "CartScreenAppear            42365\n",
       "PaymentScreenSuccessful     34113\n",
       "Tutorial                     1039\n",
       "Name: count, dtype: int64"
      ]
     },
     "execution_count": 129,
     "metadata": {},
     "output_type": "execute_result"
    }
   ],
   "source": [
    "# Contar la frecuencia de cada evento en clean_logs\n",
    "frecuencia_eventos = clean_logs['evento'].value_counts()\n",
    "\n",
    "# Ordenar los eventos por frecuencia (ya está ordenado por defecto)\n",
    "frecuencia_eventos = frecuencia_eventos.sort_values(ascending=False)\n",
    "\n",
    "frecuencia_eventos"
   ]
  },
  {
   "cell_type": "code",
   "execution_count": 130,
   "metadata": {},
   "outputs": [
    {
     "data": {
      "image/png": "[encoded data removed]",
      "text/plain": [
       "<Figure size 1000x500 with 1 Axes>"
      ]
     },
     "metadata": {},
     "output_type": "display_data"
    }
   ],
   "source": [
    "# Graficar la frecuencia de eventos\n",
    "plt.figure(figsize=(10, 5))\n",
    "bars = plt.bar(frecuencia_eventos.index.astype(str), frecuencia_eventos.values, color='lightcoral', edgecolor='black', alpha=0.8)\n",
    "\n",
    "# Agregar título y etiquetas\n",
    "plt.title('Frecuencia de Eventos en clean_logs', fontsize=16, fontweight='bold')\n",
    "plt.xlabel('Eventos', fontsize=14)\n",
    "plt.ylabel('Frecuencia', fontsize=14)\n",
    "\n",
    "# Agregar etiquetas de frecuencia encima de cada barra\n",
    "for bar in bars:\n",
    "    yval = bar.get_height()\n",
    "    plt.text(bar.get_x() + bar.get_width()/2, yval, int(yval), va='bottom', ha='center', fontsize=10)\n",
    "\n",
    "# Mejorar la apariencia del gráfico\n",
    "plt.xticks(rotation=45, fontsize=12)\n",
    "plt.yticks(fontsize=12)\n",
    "plt.grid(axis='y', linestyle='--', alpha=0.7)\n",
    "plt.tight_layout()\n",
    "\n",
    "# Mostrar el gráfico\n",
    "plt.show()"
   ]
  },
  {
   "cell_type": "markdown",
   "metadata": {},
   "source": [
    "**Conclusion:** Este gráfico sugiere que la mayoría de los usuarios interactúan principalmente con la pantalla principal y pasan por otras pantallas como ofertas y carrito, pero no todos completan el proceso de pago. La baja frecuencia del evento Tutorial podría ser un área de oportunidad para mejorar la accesibilidad o visibilidad del tutorial si es relevante para el onboarding de nuevos usuarios."
   ]
  },
  {
   "cell_type": "markdown",
   "metadata": {},
   "source": [
    "## 4.2 Encuentra la cantidad de usuarios y usuarias que realizaron cada una de estas acciones. Ordena los eventos por el número de usuarios y usuarias. Calcula la proporción de usuarios y usuarias que realizaron la acción al menos una vez."
   ]
  },
  {
   "cell_type": "code",
   "execution_count": 131,
   "metadata": {},
   "outputs": [
    {
     "data": {
      "text/plain": [
       "evento\n",
       "MainScreenAppear           98.473586\n",
       "OffersScreenAppear         60.963632\n",
       "CartScreenAppear           49.561986\n",
       "PaymentScreenSuccessful    46.973719\n",
       "Tutorial                   11.149456\n",
       "Name: identificador_usuario, dtype: float64"
      ]
     },
     "execution_count": 131,
     "metadata": {},
     "output_type": "execute_result"
    }
   ],
   "source": [
    "# Total de usuarios únicos en clean_logs\n",
    "total_usuarios = clean_logs['identificador_usuario'].nunique()\n",
    "# Contar la cantidad de usuarios únicos por cada evento\n",
    "usuarios_por_evento = clean_logs.groupby('evento')['identificador_usuario'].nunique()\n",
    "# Calcular la proporción de usuarios que realizaron cada evento al menos una vez\n",
    "proporcion_usuarios_por_evento = (usuarios_por_evento / total_usuarios) * 100\n",
    "# Ordenar de mayor a menor proporción\n",
    "proporcion_usuarios_por_evento = proporcion_usuarios_por_evento.sort_values(ascending=False)\n",
    "\n",
    "proporcion_usuarios_por_evento"
   ]
  },
  {
   "cell_type": "code",
   "execution_count": 132,
   "metadata": {},
   "outputs": [
    {
     "data": {
      "image/png": "[encoded data removed]",
      "text/plain": [
       "<Figure size 1000x500 with 1 Axes>"
      ]
     },
     "metadata": {},
     "output_type": "display_data"
    }
   ],
   "source": [
    "# Graficar la frecuencia de eventos\n",
    "plt.figure(figsize=(10, 5))\n",
    "bars = plt.bar(proporcion_usuarios_por_evento.index.astype(str), proporcion_usuarios_por_evento.values, color='green', edgecolor='black', alpha=0.8)\n",
    "\n",
    "# Agregar título y etiquetas\n",
    "plt.title('Proporción de usuarios y usuarias que realizaron la acción al menos una vez', fontsize=16, fontweight='bold')\n",
    "plt.xlabel('Eventos', fontsize=14)\n",
    "plt.ylabel('Proporción', fontsize=14)\n",
    "\n",
    "# Agregar etiquetas de frecuencia encima de cada barra\n",
    "for bar in bars:\n",
    "    yval = bar.get_height()\n",
    "    plt.text(bar.get_x() + bar.get_width()/2, yval, int(yval), va='bottom', ha='center', fontsize=10)\n",
    "\n",
    "# Mejorar la apariencia del gráfico\n",
    "plt.xticks(rotation=45, fontsize=12)\n",
    "plt.yticks(fontsize=12)\n",
    "plt.grid(axis='y', linestyle='--', alpha=0.7)\n",
    "plt.tight_layout()\n",
    "\n",
    "# Mostrar el gráfico\n",
    "plt.show()"
   ]
  },
  {
   "cell_type": "markdown",
   "metadata": {},
   "source": [
    "#### Los resultados del análisis indican lo siguiente:\n",
    "\n",
    "- **MainScreenAppear:** Es la acción más común, con un 98.47% de los usuarios únicos accediendo a la pantalla principal al menos una vez. Esto sugiere que casi todos los usuarios interactúan con la pantalla principal, lo cual es coherente con la expectativa de que sea el primer punto de interacción en la aplicación.\n",
    "\n",
    "- **OffersScreenAppear:** El 60.96% de los usuarios accedieron a la pantalla de ofertas al menos una vez, lo que muestra un interés considerable en explorar las promociones o descuentos disponibles.\n",
    "\n",
    "- **CartScreenAppear:** Aproximadamente 49.56% de los usuarios avanzaron al carrito de compras, lo que indica que casi la mitad de los usuarios están añadiendo productos y evaluando la posibilidad de realizar una compra.\n",
    "\n",
    "- **PaymentScreenSuccessful:** Un 46.97% de los usuarios completaron el proceso de pago con éxito, lo cual es una proporción alta respecto al número de usuarios que llegaron al carrito, sugiriendo una conversión relativamente eficiente entre estos pasos.\n",
    "\n",
    "- **Tutorial:** Solo el 11.15% de los usuarios interactuaron con el tutorial, lo que podría implicar que la mayoría de los usuarios omiten este paso o que no consideran necesario utilizarlo.\n"
   ]
  },
  {
   "cell_type": "markdown",
   "metadata": {},
   "source": [
    "## 4.3 ¿En qué orden crees que ocurrieron las acciones? \n",
    "- El orden probable de las acciones es: **MainScreenAppear** → **OffersScreenAppear** → **CartScreenAppear** → **PaymentScreenSuccessful**, con el Tutorial ocurriendo de forma independiente o al inicio para ciertos usuarios.\n",
    "## ¿Todas son parte de una sola secuencia? \n",
    "No, no todas las acciones parecen ser parte de una única secuencia lineal de uso. Basándonos en los datos, se puede observar lo siguiente:\n",
    "\n",
    "- **MainScreenAppear, OffersScreenAppear, CartScreenAppear y PaymentScreenSuccessful** están alineados con un flujo de compra típico en una aplicación de comercio electrónico. Los usuarios comienzan en la pantalla principal, revisan las ofertas, agregan productos al carrito y luego proceden al pago.\n",
    "- Tutorial, por otro lado, no parece seguir la misma secuencia que las otras acciones. Dado que solo el 11.15% de los usuarios interactuaron con él, es probable que el tutorial sea opcional o que los usuarios lo vean en contextos específicos (por ejemplo, cuando usan la aplicación por primera vez o buscan ayuda). Esto sugiere que el tutorial no es parte de la secuencia principal de acciones.\n",
    "\n",
    "**Conclusión:**\n",
    "Mientras que MainScreenAppear, OffersScreenAppear, CartScreenAppear y PaymentScreenSuccessful parecen formar una secuencia relacionada con el proceso de compra, el Tutorial es una acción separada y no es parte del flujo principal de la secuencia de compra.\n",
    "### No es necesario tenerlas en cuenta al calcular el embudo."
   ]
  },
  {
   "cell_type": "markdown",
   "metadata": {},
   "source": [
    "## 4.4 Utiliza el embudo de eventos para encontrar la proporción de usuarios y usuarias que pasan de una etapa a la siguiente. (Por ejemplo, para la secuencia de eventos A → B → C, calcula la proporción de usuarios en la etapa B a la cantidad de usuarios en la etapa A y la proporción de usuarios en la etapa C a la cantidad en la etapa B)."
   ]
  },
  {
   "cell_type": "code",
   "execution_count": 133,
   "metadata": {},
   "outputs": [
    {
     "data": {
      "text/plain": [
       "'Proporción de usuarios que avanzan de MainScreenAppear a OffersScreenAppear:'"
      ]
     },
     "metadata": {},
     "output_type": "display_data"
    },
    {
     "data": {
      "text/plain": [
       "0.6190861302062273"
      ]
     },
     "metadata": {},
     "output_type": "display_data"
    },
    {
     "data": {
      "text/plain": [
       "'Proporción de usuarios que avanzan de OffersScreenAppear a CartScreenAppear:'"
      ]
     },
     "metadata": {},
     "output_type": "display_data"
    },
    {
     "data": {
      "text/plain": [
       "0.8129762682342695"
      ]
     },
     "metadata": {},
     "output_type": "display_data"
    },
    {
     "data": {
      "text/plain": [
       "'Proporción de usuarios que avanzan de CartScreenAppear a PaymentScreenSuccessful:'"
      ]
     },
     "metadata": {},
     "output_type": "display_data"
    },
    {
     "data": {
      "text/plain": [
       "0.9477771826459561"
      ]
     },
     "metadata": {},
     "output_type": "display_data"
    }
   ],
   "source": [
    "# Filtrar por cada evento clave en el embudo\n",
    "main_screen_users = clean_logs[clean_logs['evento'] == 'MainScreenAppear']['identificador_usuario'].nunique()\n",
    "offers_screen_users = clean_logs[clean_logs['evento'] == 'OffersScreenAppear']['identificador_usuario'].nunique()\n",
    "cart_screen_users = clean_logs[clean_logs['evento'] == 'CartScreenAppear']['identificador_usuario'].nunique()\n",
    "payment_screen_users = clean_logs[clean_logs['evento'] == 'PaymentScreenSuccessful']['identificador_usuario'].nunique()\n",
    "\n",
    "# Calcular las proporciones de transición entre eventos\n",
    "proportion_offers_main = offers_screen_users / main_screen_users\n",
    "proportion_cart_offers = cart_screen_users / offers_screen_users\n",
    "proportion_payment_cart = payment_screen_users / cart_screen_users\n",
    "\n",
    "# Mostrar los resultados\n",
    "display(\"Proporción de usuarios que avanzan de MainScreenAppear a OffersScreenAppear:\", proportion_offers_main)\n",
    "display(\"Proporción de usuarios que avanzan de OffersScreenAppear a CartScreenAppear:\", proportion_cart_offers)\n",
    "display(\"Proporción de usuarios que avanzan de CartScreenAppear a PaymentScreenSuccessful:\", proportion_payment_cart)\n",
    "\n"
   ]
  },
  {
   "cell_type": "markdown",
   "metadata": {},
   "source": [
    "## Resumen del Embudo de Conversión\n",
    "Los resultados del embudo de conversión en la app indican lo siguiente:\n",
    "\n",
    "- **MainScreenAppear → OffersScreenAppear:** El 61.91% de los usuarios que visitan la pantalla principal pasan a la pantalla de ofertas, lo cual muestra interés en explorar promociones, aunque un 38% no avanza.\n",
    "\n",
    "- **OffersScreenAppear → CartScreenAppear:** El 81.30% de los usuarios que ven las ofertas añaden productos al carrito, lo que refleja que las promociones son atractivas para la mayoría.\n",
    "\n",
    "- **CartScreenAppear → PaymentScreenSuccessful:** El 94.78% de los usuarios que llegan al carrito completan el pago, una alta tasa de conversión que indica una experiencia de compra efectiva.\n",
    "\n",
    "#### Conclusión\n",
    "El flujo de compra muestra una retención fuerte, especialmente en los pasos de compra y pago. La caída más notable ocurre entre la pantalla principal y la de ofertas, sugiriendo una oportunidad para mejorar la visibilidad de las ofertas desde la pantalla principal"
   ]
  },
  {
   "cell_type": "markdown",
   "metadata": {},
   "source": [
    "## 4.5 ¿En qué etapa pierdes más usuarios y usuarias?\n",
    "\n",
    "La etapa donde se pierden más usuarios es en la transición de **MainScreenAppear a OffersScreenAppear, con un 38.09%** de usuarios que no avanzan hacia la pantalla de ofertas. Esto significa que, aunque una mayoría explora la aplicación desde la pantalla principal, un número considerable de usuarios no pasa a la siguiente etapa del flujo de compra.\n",
    "\n",
    "Esta pérdida de usuarios en la primera transición podría indicar que no todos encuentran atractivo explorar las ofertas o que los elementos de navegación hacia esta sección podrían mejorarse para fomentar la transición hacia la pantalla de ofertas."
   ]
  },
  {
   "cell_type": "markdown",
   "metadata": {},
   "source": [
    "## 4.6 ¿Qué porcentaje de usuarios y usuarias hace todo el viaje desde su primer evento hasta el pago?"
   ]
  },
  {
   "cell_type": "code",
   "execution_count": 134,
   "metadata": {},
   "outputs": [
    {
     "data": {
      "text/plain": [
       "46.38091386979377"
      ]
     },
     "execution_count": 134,
     "metadata": {},
     "output_type": "execute_result"
    }
   ],
   "source": [
    "# Total de usuarios que inician en MainScreenAppear\n",
    "total_main_screen_users = clean_logs[clean_logs['evento'] == 'MainScreenAppear']['identificador_usuario'].nunique()\n",
    "\n",
    "# Usuarios que completan todo el flujo hasta PaymentScreenSuccessful\n",
    "completed_flow_users = clean_logs[(clean_logs['evento'] == 'MainScreenAppear') & \n",
    "                                  (clean_logs['identificador_usuario'].isin(\n",
    "                                      clean_logs[clean_logs['evento'] == 'PaymentScreenSuccessful']['identificador_usuario'])\n",
    "                                  )]['identificador_usuario'].nunique()\n",
    "\n",
    "# Calcular el porcentaje\n",
    "completion_percentage = (completed_flow_users / total_main_screen_users) * 100\n",
    "completion_percentage\n"
   ]
  },
  {
   "cell_type": "markdown",
   "metadata": {},
   "source": [
    "El **46.38%** de los usuarios completó todo el recorrido desde su primer evento en la pantalla principal hasta el pago exitoso. Esto sugiere que casi la mitad de los usuarios que iniciaron la interacción en la app avanzaron en cada etapa del flujo de compra y finalizaron el proceso.\n",
    "\n",
    "Este porcentaje refleja un nivel de conversión relativamente alto, aunque también sugiere que existe margen de mejora en algunas etapas, especialmente al inicio, para aumentar la retención y guiar a más usuarios a través de todo el flujo hasta la compra final."
   ]
  },
  {
   "cell_type": "markdown",
   "metadata": {},
   "source": [
    "## Paso 5. Estudiar los resultados del experimento\n",
    "\n",
    "- #### 5.1 ¿Cuántos usuarios y usuarias hay en cada grupo?\n",
    "- #### 5.2 Tenemos dos grupos de control en el test A/A, donde comprobamos nuestros mecanismos y cálculos. Observa si hay una diferencia estadísticamente significativa entre las muestras 246 y 247.\n",
    "- #### 5.3 Selecciona el evento más popular. En cada uno de los grupos de control, encuentra la cantidad de usuarios y usuarias que realizaron esta acción. Encuentra su proporción. Comprueba si la diferencia entre los grupos es estadísticamente significativa. Repite el procedimiento para todos los demás eventos (ahorrarás tiempo si creas una función especial para esta prueba). ¿Puedes confirmar que los grupos se dividieron correctamente?\n",
    "- #### 5.4 Haz lo mismo para el grupo con fuentes alteradas. Compara los resultados con los de cada uno de los grupos de control para cada evento de forma aislada. Compara los resultados con los resultados combinados de los grupos de control. ¿Qué conclusiones puedes sacar del experimento?\n",
    "- #### 5.5 ¿Qué nivel de significación has establecido para probar las hipótesis estadísticas mencionadas anteriormente? Calcula cuántas pruebas de hipótesis estadísticas has realizado. Con un nivel de significancia estadística de 0.1, uno de cada 10 resultados podría ser falso. ¿Cuál debería ser el nivel de significación? Si deseas cambiarlo, vuelve a ejecutar los pasos anteriores y comprueba tus conclusiones.\n"
   ]
  },
  {
   "cell_type": "markdown",
   "metadata": {},
   "source": [
    "## 5.1 ¿Cuántos usuarios y usuarias hay en cada grupo?"
   ]
  },
  {
   "cell_type": "code",
   "execution_count": 135,
   "metadata": {},
   "outputs": [
    {
     "data": {
      "text/plain": [
       "numero_grupo\n",
       "246    2484\n",
       "247    2513\n",
       "248    2537\n",
       "Name: identificador_usuario, dtype: int64"
      ]
     },
     "execution_count": 135,
     "metadata": {},
     "output_type": "execute_result"
    }
   ],
   "source": [
    "# Contar usuarios únicos en cada grupo experimental\n",
    "usuarios_por_grupo = clean_logs.groupby('numero_grupo')['identificador_usuario'].nunique()\n",
    "\n",
    "\n",
    "usuarios_por_grupo\n"
   ]
  },
  {
   "cell_type": "markdown",
   "metadata": {},
   "source": [
    "## 5.2 Tenemos dos grupos de control en el test A/A, donde comprobamos nuestros mecanismos y cálculos. Observa si hay una diferencia estadísticamente significativa entre las muestras 246 y 247."
   ]
  },
  {
   "cell_type": "code",
   "execution_count": 145,
   "metadata": {},
   "outputs": [
    {
     "name": "stdout",
     "output_type": "stream",
     "text": [
      "Grupo 246 - Estadístico de Shapiro-Wilk: 0.9467835615187427, Valor p: 4.7505241872547227e-76\n",
      "Grupo 246: Los datos no siguen una distribución normal.\n",
      "Grupo 247 - Estadístico de Shapiro-Wilk: 0.9424801435184658, Valor p: 1.5741089052411235e-78\n",
      "Grupo 247: Los datos no siguen una distribución normal.\n"
     ]
    }
   ],
   "source": [
    "# Extrae los datos y convierte a formato numérico (en segundos desde la fecha mínima)\n",
    "tiempo_246 = clean_logs[(clean_logs['numero_grupo'] == 246) & \n",
    "                        (clean_logs['evento'] == 'MainScreenAppear')]['fecha'].dropna()\n",
    "tiempo_247 = clean_logs[(clean_logs['numero_grupo'] == 247) & \n",
    "                        (clean_logs['evento'] == 'MainScreenAppear')]['fecha'].dropna()\n",
    "\n",
    "# Convertir a segundos desde la fecha mínima\n",
    "tiempo_246 = (tiempo_246 - tiempo_246.min()).dt.total_seconds()\n",
    "tiempo_247 = (tiempo_247 - tiempo_247.min()).dt.total_seconds()\n",
    "\n",
    "# Realiza la prueba de Shapiro-Wilk para el grupo 246\n",
    "stat_246, p_value_246 = shapiro(tiempo_246)\n",
    "print(f\"Grupo 246 - Estadístico de Shapiro-Wilk: {stat_246}, Valor p: {p_value_246}\")\n",
    "if p_value_246 < 0.05:\n",
    "    print(\"Grupo 246: Los datos no siguen una distribución normal.\")\n",
    "else:\n",
    "    print(\"Grupo 246: Los datos parecen seguir una distribución normal.\")\n",
    "\n",
    "# Realiza la prueba de Shapiro-Wilk para el grupo 247\n",
    "stat_247, p_value_247 = shapiro(tiempo_247)\n",
    "print(f\"Grupo 247 - Estadístico de Shapiro-Wilk: {stat_247}, Valor p: {p_value_247}\")\n",
    "if p_value_247 < 0.05:\n",
    "    print(\"Grupo 247: Los datos no siguen una distribución normal.\")\n",
    "else:\n",
    "    print(\"Grupo 247: Los datos parecen seguir una distribución normal.\")\n"
   ]
  },
  {
   "cell_type": "code",
   "execution_count": 146,
   "metadata": {},
   "outputs": [
    {
     "data": {
      "image/png": "[encoded data removed]",
      "text/plain": [
       "<Figure size 1200x500 with 2 Axes>"
      ]
     },
     "metadata": {},
     "output_type": "display_data"
    }
   ],
   "source": [
    "# Crear Q-Q plot para el grupo 246\n",
    "plt.figure(figsize=(12, 5))\n",
    "\n",
    "plt.subplot(1, 2, 1)\n",
    "stats.probplot(tiempo_246, dist=\"norm\", plot=plt)\n",
    "plt.title('Q-Q Plot para Grupo 246')\n",
    "plt.xlabel('Cuantiles Teóricos')\n",
    "plt.ylabel('Cuantiles Observados')\n",
    "\n",
    "# Crear Q-Q plot para el grupo 247\n",
    "plt.subplot(1, 2, 2)\n",
    "stats.probplot(tiempo_247, dist=\"norm\", plot=plt)\n",
    "plt.title('Q-Q Plot para Grupo 247')\n",
    "plt.xlabel('Cuantiles Teóricos')\n",
    "plt.ylabel('Cuantiles Observados')\n",
    "\n",
    "# Muestra el gráfico\n",
    "plt.tight_layout()\n",
    "plt.show()"
   ]
  },
  {
   "cell_type": "code",
   "execution_count": null,
   "metadata": {},
   "outputs": [
    {
     "name": "stdout",
     "output_type": "stream",
     "text": [
      "Estadístico de Mann-Whitney U: 740612053.5, Valor p: 0.33109810673141604\n",
      "No hay una diferencia estadísticamente significativa entre los grupos 246 y 247.\n"
     ]
    }
   ],
   "source": [
    "# Realiza la prueba de Mann-Whitney U para comparar los grupos 246 y 247\n",
    "stat, p_value = st.mannwhitneyu(tiempo_246, tiempo_247, alternative='two-sided')\n",
    "print(f\"Estadístico de Mann-Whitney U: {stat}, Valor p: {p_value}\")\n",
    "\n",
    "if p_value < 0.05:\n",
    "    print(\"Hay una diferencia estadísticamente significativa entre los grupos 246 y 247.\")\n",
    "else:\n",
    "    print(\"No hay una diferencia estadísticamente significativa entre los grupos 246 y 247.\")\n"
   ]
  },
  {
   "cell_type": "code",
   "execution_count": 138,
   "metadata": {},
   "outputs": [
    {
     "name": "stdout",
     "output_type": "stream",
     "text": [
      "Estadístico de Mann-Whitney U: 740612053.5, Valor p: 0.33109810673141604\n",
      "No hay una diferencia estadísticamente significativa entre los grupos 246 y 247.\n"
     ]
    }
   ],
   "source": [
    "# Realiza la prueba de Mann-Whitney U para comparar los grupos 246 y 247\n",
    "stat, p_value = st.mannwhitneyu(tiempo_246, tiempo_247, alternative='two-sided')\n",
    "print(f\"Estadístico de Mann-Whitney U: {stat}, Valor p: {p_value}\")\n",
    "\n",
    "if p_value < 0.05:\n",
    "    print(\"Hay una diferencia estadísticamente significativa entre los grupos 246 y 247.\")\n",
    "else:\n",
    "    print(\"No hay una diferencia estadísticamente significativa entre los grupos 246 y 247.\")\n"
   ]
  },
  {
   "cell_type": "markdown",
   "metadata": {},
   "source": [
    "En el contexto de un test A/A, en el que se están comparando dos grupos de control (246 y 247) para validar que no haya diferencias significativas entre ellos, estos resultados indican lo siguiente:\n",
    "\n",
    "- **Estadístico de Mann-Whitney U:** 740612053.5: Este valor representa el estadístico de la prueba Mann-Whitney U, que evalúa si una de las muestras tiende a tener valores mayores que la otra. En este caso, el valor del estadístico es alto, pero por sí solo no determina significancia estadística sin el valor p.\n",
    "\n",
    "- **Valor p: 0.3311:**  Este valor p es la probabilidad de observar una diferencia al menos tan extrema como la observada en los datos, bajo la hipótesis nula de que las distribuciones de los dos grupos son iguales. Como este valor es mayor que 0.05 (umbral de significancia común), no hay suficiente evidencia para rechazar la hipótesis nula.\n",
    "\n",
    "**Conclusión:** \"No hay una diferencia estadísticamente significativa entre los grupos 246 y 247.\" Esto significa que las distribuciones de los tiempos para ambos grupos son estadísticamente similares. Esto es un buen resultado en un test A/A, ya que sugiere que ambos grupos están funcionando de manera equivalente y que los mecanismos y cálculos del sistema son consistentes."
   ]
  },
  {
   "cell_type": "markdown",
   "metadata": {},
   "source": [
    "## 5.3 Selecciona el evento más popular. En cada uno de los grupos de control, encuentra la cantidad de usuarios y usuarias que realizaron esta acción. Encuentra su proporción. Comprueba si la diferencia entre los grupos es estadísticamente significativa. Repite el procedimiento para todos los demás eventos (ahorrarás tiempo si creas una función especial para esta prueba). ¿Puedes confirmar que los grupos se dividieron correctamente?"
   ]
  },
  {
   "cell_type": "code",
   "execution_count": null,
   "metadata": {},
   "outputs": [
    {
     "data": {
      "text/plain": [
       "'El evento más popular es: MainScreenAppear'"
      ]
     },
     "metadata": {},
     "output_type": "display_data"
    }
   ],
   "source": [
    "# Encuentra el evento más frecuente\n",
    "evento_mas_popular = clean_logs['evento'].value_counts().idxmax()\n",
    "display(f\"El evento más popular es: {evento_mas_popular}\")\n"
   ]
  },
  {
   "cell_type": "code",
   "execution_count": null,
   "metadata": {},
   "outputs": [],
   "source": [
    "def verificar_normalidad_por_evento(evento):\n",
    "    print(f\"Prueba de normalidad (Shapiro-Wilk) para el evento '{evento}':\")\n",
    "\n",
    "    for grupo in [246, 247, 248]:\n",
    "        # Filtra los datos para el evento y grupo específico\n",
    "        grupo_data = clean_logs[(clean_logs['evento'] == evento) & (clean_logs['numero_grupo'] == grupo)]\n",
    "        \n",
    "        # Extrae los usuarios únicos que realizaron el evento\n",
    "        usuarios_unicos = grupo_data['identificador_usuario'].value_counts()  # Cuenta cada aparición del evento por usuario\n",
    "\n",
    "        # Realiza la prueba de Shapiro-Wilk\n",
    "        stat, p_value = st.shapiro(usuarios_unicos)\n",
    "        print(f\"Grupo {grupo} - Estadístico de Shapiro-Wilk: {stat}, Valor p: {p_value}\")\n",
    "\n",
    "        if p_value < 0.05:\n",
    "            print(f\"Grupo {grupo}: Los datos no siguen una distribución normal.\\n\")\n",
    "        else:\n",
    "            print(f\"Grupo {grupo}: Los datos parecen seguir una distribución normal.\\n\")"
   ]
  },
  {
   "cell_type": "code",
   "execution_count": null,
   "metadata": {},
   "outputs": [
    {
     "name": "stdout",
     "output_type": "stream",
     "text": [
      "Prueba de normalidad (Shapiro-Wilk) para el evento 'Tutorial':\n",
      "Grupo 246 - Estadístico de Shapiro-Wilk: 0.16826855310243416, Valor p: 3.225858168096717e-33\n",
      "Grupo 246: Los datos no siguen una distribución normal.\n",
      "\n",
      "Grupo 247 - Estadístico de Shapiro-Wilk: 0.14110484768368692, Valor p: 7.3365113654769734e-34\n",
      "Grupo 247: Los datos no siguen una distribución normal.\n",
      "\n",
      "Grupo 248 - Estadístico de Shapiro-Wilk: 0.07809958027700015, Valor p: 1.5390888814440972e-34\n",
      "Grupo 248: Los datos no siguen una distribución normal.\n",
      "\n",
      "Prueba de normalidad (Shapiro-Wilk) para el evento 'MainScreenAppear':\n",
      "Grupo 246 - Estadístico de Shapiro-Wilk: 0.7446238581349164, Valor p: 6.72225333065201e-52\n",
      "Grupo 246: Los datos no siguen una distribución normal.\n",
      "\n",
      "Grupo 247 - Estadístico de Shapiro-Wilk: 0.7106005616425506, Valor p: 3.0807674775233916e-54\n",
      "Grupo 247: Los datos no siguen una distribución normal.\n",
      "\n",
      "Grupo 248 - Estadístico de Shapiro-Wilk: 0.7612103213048503, Valor p: 4.2788442371216996e-51\n",
      "Grupo 248: Los datos no siguen una distribución normal.\n",
      "\n",
      "Prueba de normalidad (Shapiro-Wilk) para el evento 'OffersScreenAppear':\n",
      "Grupo 246 - Estadístico de Shapiro-Wilk: 0.643137218417211, Valor p: 7.909208815234262e-49\n",
      "Grupo 246: Los datos no siguen una distribución normal.\n",
      "\n",
      "Grupo 247 - Estadístico de Shapiro-Wilk: 0.4812547852296385, Valor p: 9.318082688434589e-55\n",
      "Grupo 247: Los datos no siguen una distribución normal.\n",
      "\n",
      "Grupo 248 - Estadístico de Shapiro-Wilk: 0.39611561018840546, Valor p: 1.5823037449144243e-57\n",
      "Grupo 248: Los datos no siguen una distribución normal.\n",
      "\n",
      "Prueba de normalidad (Shapiro-Wilk) para el evento 'CartScreenAppear':\n",
      "Grupo 246 - Estadístico de Shapiro-Wilk: 0.18944679017701838, Valor p: 7.981082385097984e-59\n",
      "Grupo 246: Los datos no siguen una distribución normal.\n",
      "\n",
      "Grupo 247 - Estadístico de Shapiro-Wilk: 0.17736682749778077, Valor p: 1.2594294112141426e-58\n",
      "Grupo 247: Los datos no siguen una distribución normal.\n",
      "\n",
      "Grupo 248 - Estadístico de Shapiro-Wilk: 0.17743732216263752, Valor p: 1.7145482867315723e-58\n",
      "Grupo 248: Los datos no siguen una distribución normal.\n",
      "\n",
      "Prueba de normalidad (Shapiro-Wilk) para el evento 'PaymentScreenSuccessful':\n",
      "Grupo 246 - Estadístico de Shapiro-Wilk: 0.16552690520861324, Valor p: 3.064836565699028e-58\n",
      "Grupo 246: Los datos no siguen una distribución normal.\n",
      "\n",
      "Grupo 247 - Estadístico de Shapiro-Wilk: 0.15010568824268244, Valor p: 7.791148436517146e-58\n",
      "Grupo 247: Los datos no siguen una distribución normal.\n",
      "\n",
      "Grupo 248 - Estadístico de Shapiro-Wilk: 0.14813784528344132, Valor p: 2.8289965406154126e-58\n",
      "Grupo 248: Los datos no siguen una distribución normal.\n",
      "\n"
     ]
    }
   ],
   "source": [
    "\n",
    "# Lista de eventos únicos\n",
    "eventos_unicos = clean_logs['evento'].unique()\n",
    "\n",
    "# Verificar la normalidad para cada evento en cada grupo\n",
    "for evento in eventos_unicos:\n",
    "    verificar_normalidad_por_evento(evento)"
   ]
  },
  {
   "cell_type": "code",
   "execution_count": null,
   "metadata": {},
   "outputs": [
    {
     "name": "stdout",
     "output_type": "stream",
     "text": [
      "Evento: Tutorial\n",
      "Comparación 246 vs 247\n",
      "Estadístico U: 350080.0\n",
      "p-valor: 0.739461557144097\n",
      "No hay diferencia significativa entre grupos\n",
      "\n",
      "Comparación 246 vs 248\n",
      "Estadístico U: 351028.5\n",
      "p-valor: 0.8283236919396866\n",
      "No hay diferencia significativa entre grupos\n",
      "\n",
      "Comparación 247 vs 248\n",
      "Estadístico U: 353724.5\n",
      "p-valor: 0.9101819340267101\n",
      "No hay diferencia significativa entre grupos\n",
      "\n",
      "Evento: MainScreenAppear\n",
      "Comparación 246 vs 247\n",
      "Estadístico U: 27402256.5\n",
      "p-valor: 0.5876242424959772\n",
      "No hay diferencia significativa entre grupos\n",
      "\n",
      "Comparación 246 vs 248\n",
      "Estadístico U: 27277525.0\n",
      "p-valor: 0.2662435385333095\n",
      "No hay diferencia significativa entre grupos\n",
      "\n",
      "Comparación 247 vs 248\n",
      "Estadístico U: 27396933.0\n",
      "p-valor: 0.5720155798929388\n",
      "No hay diferencia significativa entre grupos\n",
      "\n",
      "Evento: OffersScreenAppear\n",
      "Comparación 246 vs 247\n",
      "Estadístico U: 10603599.5\n",
      "p-valor: 0.6007958097220939\n",
      "No hay diferencia significativa entre grupos\n",
      "\n",
      "Comparación 246 vs 248\n",
      "Estadístico U: 10581982.5\n",
      "p-valor: 0.748896841250789\n",
      "No hay diferencia significativa entre grupos\n",
      "\n",
      "Comparación 247 vs 248\n",
      "Estadístico U: 10525832.5\n",
      "p-valor: 0.8363576043827946\n",
      "No hay diferencia significativa entre grupos\n",
      "\n",
      "Evento: CartScreenAppear\n",
      "Comparación 246 vs 247\n",
      "Estadístico U: 7036919.0\n",
      "p-valor: 0.4024257286020807\n",
      "No hay diferencia significativa entre grupos\n",
      "\n",
      "Comparación 246 vs 248\n",
      "Estadístico U: 7008623.5\n",
      "p-valor: 0.6338724801061707\n",
      "No hay diferencia significativa entre grupos\n",
      "\n",
      "Comparación 247 vs 248\n",
      "Estadístico U: 6942997.5\n",
      "p-valor: 0.7156961406952305\n",
      "No hay diferencia significativa entre grupos\n",
      "\n",
      "Evento: PaymentScreenSuccessful\n",
      "Comparación 246 vs 247\n",
      "Estadístico U: 6349264.0\n",
      "p-valor: 0.22736517045601257\n",
      "No hay diferencia significativa entre grupos\n",
      "\n",
      "Comparación 246 vs 248\n",
      "Estadístico U: 6287600.5\n",
      "p-valor: 0.7259548481130852\n",
      "No hay diferencia significativa entre grupos\n",
      "\n",
      "Comparación 247 vs 248\n",
      "Estadístico U: 6200498.0\n",
      "p-valor: 0.3902636437795577\n",
      "No hay diferencia significativa entre grupos\n",
      "\n"
     ]
    }
   ],
   "source": [
    "def analizar_diferencias_mannwhitney(clean_logs, eventos, grupos):\n",
    "    resultados = {}\n",
    "\n",
    "    for evento in eventos:\n",
    "        # Filtrar usuarios que realizaron el evento y contar la frecuencia por usuario\n",
    "        evento_data = clean_logs[clean_logs['evento'] == evento]\n",
    "        frecuencias_evento = evento_data.groupby(['numero_grupo', 'identificador_usuario']).size().unstack(fill_value=0)\n",
    "        \n",
    "        # Comparar cada par de grupos\n",
    "        resultados[evento] = {}\n",
    "        for i, grupo_a in enumerate(grupos):\n",
    "            for grupo_b in grupos[i + 1:]:\n",
    "                # Datos para los dos grupos\n",
    "                datos_grupo_a = frecuencias_evento.loc[grupo_a].dropna()\n",
    "                datos_grupo_b = frecuencias_evento.loc[grupo_b].dropna()\n",
    "                \n",
    "                # Prueba U de Mann-Whitney\n",
    "                estadistico, p_valor = st.mannwhitneyu(datos_grupo_a, datos_grupo_b, alternative='two-sided')\n",
    "                \n",
    "                # Guardar resultados\n",
    "                resultados[evento][f\"{grupo_a} vs {grupo_b}\"] = {\n",
    "                    'Estadístico U': estadistico,\n",
    "                    'p-valor': p_valor,\n",
    "                    'Significancia': p_valor < 0.05\n",
    "                }\n",
    "    \n",
    "    # Mostrar resultados\n",
    "    for evento, comparaciones in resultados.items():\n",
    "        print(f\"Evento: {evento}\")\n",
    "        for comparacion, resultado in comparaciones.items():\n",
    "            print(f\"Comparación {comparacion}\")\n",
    "            print(f\"Estadístico U: {resultado['Estadístico U']}\")\n",
    "            print(f\"p-valor: {resultado['p-valor']}\")\n",
    "            print(\"Diferencia significativa entre grupos\" if resultado['Significancia'] else \"No hay diferencia significativa entre grupos\")\n",
    "            print(\"\")\n",
    "            \n",
    "# Ejemplo de uso:\n",
    "eventos = clean_logs['evento'].unique()  # Lista de eventos únicos en el DataFrame\n",
    "grupos = clean_logs['numero_grupo'].unique()  # Lista de grupos experimentales\n",
    "analizar_diferencias_mannwhitney(clean_logs, eventos, grupos)"
   ]
  },
  {
   "cell_type": "markdown",
   "metadata": {},
   "source": [
    "#### Para cada evento, realizamos comparaciones de pares de grupos mediante la prueba U de Mann-Whitney, dada la ausencia de normalidad en los datos.\n",
    "\n",
    "**Evento: Tutorial**\n",
    "\n",
    "246 vs 247: Estadístico U = 350080.0, p-valor = 0.7395\n",
    "No hay diferencia significativa.\n",
    "246 vs 248: Estadístico U = 351028.5, p-valor = 0.8283\n",
    "No hay diferencia significativa.\n",
    "247 vs 248: Estadístico U = 353724.5, p-valor = 0.9102\n",
    "No hay diferencia significativa.\n",
    "\n",
    " **Evento: MainScreenAppear**\n",
    "\n",
    "246 vs 247: Estadístico U = 27402256.5, p-valor = 0.5876\n",
    "No hay diferencia significativa.\n",
    "246 vs 248: Estadístico U = 27277525.0, p-valor = 0.2662\n",
    "No hay diferencia significativa.\n",
    "247 vs 248: Estadístico U = 27396933.0, p-valor = 0.5720\n",
    "No hay diferencia significativa.\n",
    "\n",
    "**Evento: OffersScreenAppear**\n",
    "\n",
    "246 vs 247: Estadístico U = 10603599.5, p-valor = 0.6008\n",
    "No hay diferencia significativa.\n",
    "246 vs 248: Estadístico U = 10581982.5, p-valor = 0.7489\n",
    "No hay diferencia significativa.\n",
    "247 vs 248: Estadístico U = 10525832.5, p-valor = 0.8364\n",
    "No hay diferencia significativa.\n",
    "\n",
    "**Evento: CartScreenAppear**\n",
    "\n",
    "246 vs 247: Estadístico U = 7036919.0, p-valor = 0.4024\n",
    "No hay diferencia significativa.\n",
    "246 vs 248: Estadístico U = 7008623.5, p-valor = 0.6339\n",
    "No hay diferencia significativa.\n",
    "247 vs 248: Estadístico U = 6942997.5, p-valor = 0.7157\n",
    "No hay diferencia significativa.\n",
    "\n",
    "**Evento: PaymentScreenSuccessful**\n",
    "\n",
    "246 vs 247: Estadístico U = 6349264.0, p-valor = 0.2274\n",
    "No hay diferencia significativa.\n",
    "246 vs 248: Estadístico U = 6287600.5, p-valor = 0.7260\n",
    "No hay diferencia significativa.\n",
    "247 vs 248: Estadístico U = 6200498.0, p-valor = 0.3903\n",
    "No hay diferencia significativa.\n",
    "\n",
    "#### Conclusión\n",
    "Los resultados sugieren que los eventos más populares tienen una frecuencia similar entre los grupos experimentales (246, 247 y 248). Esto puede significar que el comportamiento de los usuarios en cuanto a estos eventos no varía significativamente de un grupo a otro, y que los grupos no muestran diferencias en la participación en estos eventos clave.\n",
    "\n",
    "En otras palabras, **no hay evidencia de que el grupo al que pertenecen los usuarios influya en la realización de estos eventos populares**, lo cual confirma que los grupos fueron divididos correctamente y que el análisis no está afectado por sesgos en la asignación."
   ]
  },
  {
   "cell_type": "markdown",
   "metadata": {},
   "source": [
    "## 5.4 Haz lo mismo para el grupo con fuentes alteradas. Compara los resultados con los de cada uno de los grupos de control para cada evento de forma aislada. Compara los resultados con los resultados combinados de los grupos de control. ¿Qué conclusiones puedes sacar del experimento?"
   ]
  },
  {
   "cell_type": "code",
   "execution_count": null,
   "metadata": {},
   "outputs": [
    {
     "data": {
      "text/plain": [
       "'El evento más popular en logs es: MainScreenAppear'"
      ]
     },
     "metadata": {},
     "output_type": "display_data"
    }
   ],
   "source": [
    "# Encuentra el evento más frecuente en logs\n",
    "evento_mas_popular_logs = logs['evento'].value_counts().idxmax()\n",
    "display(f\"El evento más popular en logs es: {evento_mas_popular_logs}\")"
   ]
  },
  {
   "cell_type": "code",
   "execution_count": null,
   "metadata": {},
   "outputs": [],
   "source": [
    "def verificar_normalidad_por_evento(evento_logs):\n",
    "    print(f\"Prueba de normalidad (Shapiro-Wilk) para el evento '{evento_logs}':\")\n",
    "\n",
    "    for grupo in [246, 247, 248]:\n",
    "        # Filtra los datos para el evento y grupo específico\n",
    "        grupo_data = logs[(logs['evento'] == evento_logs) & (logs['numero_grupo'] == grupo)]\n",
    "        \n",
    "        # Extrae los usuarios únicos que realizaron el evento\n",
    "        usuarios_unicos = grupo_data['identificador_usuario'].value_counts()  # Cuenta cada aparición del evento por usuario\n",
    "\n",
    "        # Realiza la prueba de Shapiro-Wilk\n",
    "        stat, p_value = st.shapiro(usuarios_unicos)\n",
    "        print(f\"Grupo {grupo} - Estadístico de Shapiro-Wilk: {stat}, Valor p: {p_value}\")\n",
    "\n",
    "        if p_value < 0.05:\n",
    "            print(f\"Grupo {grupo}: Los datos no siguen una distribución normal.\\n\")\n",
    "        else:\n",
    "            print(f\"Grupo {grupo}: Los datos parecen seguir una distribución normal.\\n\")\n"
   ]
  },
  {
   "cell_type": "code",
   "execution_count": null,
   "metadata": {},
   "outputs": [
    {
     "name": "stdout",
     "output_type": "stream",
     "text": [
      "Evento: MainScreenAppear\n",
      "Comparación 246 vs 248\n",
      "Estadístico U: 27419803.5\n",
      "p-valor: 0.25599477947198257\n",
      "No hay diferencia significativa entre grupos\n",
      "\n",
      "Comparación 246 vs 247\n",
      "Estadístico U: 27547054.0\n",
      "p-valor: 0.5772691595539023\n",
      "No hay diferencia significativa entre grupos\n",
      "\n",
      "Comparación 248 vs 247\n",
      "Estadístico U: 27796242.5\n",
      "p-valor: 0.5642262061908262\n",
      "No hay diferencia significativa entre grupos\n",
      "\n",
      "Evento: PaymentScreenSuccessful\n",
      "Comparación 246 vs 248\n",
      "Estadístico U: 6312415.5\n",
      "p-valor: 0.7636817717750741\n",
      "No hay diferencia significativa entre grupos\n",
      "\n",
      "Comparación 246 vs 247\n",
      "Estadístico U: 6378300.0\n",
      "p-valor: 0.22518024788181856\n",
      "No hay diferencia significativa entre grupos\n",
      "\n",
      "Comparación 248 vs 247\n",
      "Estadístico U: 6356757.0\n",
      "p-valor: 0.35914206075499155\n",
      "No hay diferencia significativa entre grupos\n",
      "\n",
      "Evento: CartScreenAppear\n",
      "Comparación 246 vs 248\n",
      "Estadístico U: 7056753.5\n",
      "p-valor: 0.7101210086718719\n",
      "No hay diferencia significativa entre grupos\n",
      "\n",
      "Comparación 246 vs 247\n",
      "Estadístico U: 7095369.5\n",
      "p-valor: 0.3885378529748682\n",
      "No hay diferencia significativa entre grupos\n",
      "\n",
      "Comparación 248 vs 247\n",
      "Estadístico U: 7066045.5\n",
      "p-valor: 0.622982827220726\n",
      "No hay diferencia significativa entre grupos\n",
      "\n",
      "Evento: OffersScreenAppear\n",
      "Comparación 246 vs 248\n",
      "Estadístico U: 10665457.5\n",
      "p-valor: 0.8117507413540954\n",
      "No hay diferencia significativa entre grupos\n",
      "\n",
      "Comparación 246 vs 247\n",
      "Estadístico U: 10682283.5\n",
      "p-valor: 0.6926979432395983\n",
      "No hay diferencia significativa entre grupos\n",
      "\n",
      "Comparación 248 vs 247\n",
      "Estadístico U: 10656922.0\n",
      "p-valor: 0.873732621526389\n",
      "No hay diferencia significativa entre grupos\n",
      "\n",
      "Evento: Tutorial\n",
      "Comparación 246 vs 248\n",
      "Estadístico U: 355962.0\n",
      "p-valor: 0.740135421560401\n",
      "No hay diferencia significativa entre grupos\n",
      "\n",
      "Comparación 246 vs 247\n",
      "Estadístico U: 354600.5\n",
      "p-valor: 0.6202105849244329\n",
      "No hay diferencia significativa entre grupos\n",
      "\n",
      "Comparación 248 vs 247\n",
      "Estadístico U: 357371.0\n",
      "p-valor: 0.872447797383043\n",
      "No hay diferencia significativa entre grupos\n",
      "\n"
     ]
    }
   ],
   "source": [
    "def analizar_diferencias_mannwhitney(logs, eventos, grupos):\n",
    "    resultados = {}\n",
    "\n",
    "    for evento in eventos:\n",
    "        # Filtrar usuarios que realizaron el evento y contar la frecuencia por usuario\n",
    "        evento_data = logs[logs['evento'] == evento]\n",
    "        frecuencias_evento = evento_data.groupby(['numero_grupo', 'identificador_usuario']).size().unstack(fill_value=0)\n",
    "        \n",
    "        # Comparar cada par de grupos\n",
    "        resultados[evento] = {}\n",
    "        for i, grupo_a in enumerate(grupos):\n",
    "            for grupo_b in grupos[i + 1:]:\n",
    "                # Datos para los dos grupos\n",
    "                datos_grupo_a = frecuencias_evento.loc[grupo_a].dropna()\n",
    "                datos_grupo_b = frecuencias_evento.loc[grupo_b].dropna()\n",
    "                \n",
    "                # Prueba U de Mann-Whitney\n",
    "                estadistico, p_valor = st.mannwhitneyu(datos_grupo_a, datos_grupo_b, alternative='two-sided')\n",
    "                \n",
    "                # Guardar resultados\n",
    "                resultados[evento][f\"{grupo_a} vs {grupo_b}\"] = {\n",
    "                    'Estadístico U': estadistico,\n",
    "                    'p-valor': p_valor,\n",
    "                    'Significancia': p_valor < 0.05\n",
    "                }\n",
    "    \n",
    "    # Mostrar resultados\n",
    "    for evento, comparaciones in resultados.items():\n",
    "        print(f\"Evento: {evento}\")\n",
    "        for comparacion, resultado in comparaciones.items():\n",
    "            print(f\"Comparación {comparacion}\")\n",
    "            print(f\"Estadístico U: {resultado['Estadístico U']}\")\n",
    "            print(f\"p-valor: {resultado['p-valor']}\")\n",
    "            print(\"Diferencia significativa entre grupos\" if resultado['Significancia'] else \"No hay diferencia significativa entre grupos\")\n",
    "            print(\"\")\n",
    "            \n",
    "# Ejemplo de uso:\n",
    "eventos = logs['evento'].unique()  # Lista de eventos únicos en el DataFrame\n",
    "grupos = logs['numero_grupo'].unique()  # Lista de grupos experimentales\n",
    "analizar_diferencias_mannwhitney(logs, eventos, grupos)\n"
   ]
  },
  {
   "cell_type": "markdown",
   "metadata": {},
   "source": [
    "### Evento: OffersScreenAppear\n",
    "#### Resultados en clean_logs:\n",
    "\n",
    "- Las comparaciones entre grupos 246 vs 247, 246 vs 248, y 247 vs 248 tienen p-valores de 0.60, 0.75, y 0.84, respectivamente, mostrando que no hay diferencias significativas entre grupos.\n",
    "\n",
    "#### Resultados en logs:\n",
    "\n",
    "- Similarmente, las comparaciones arrojan p-valores de 0.81, 0.69, y 0.87, lo cual también sugiere ausencia de diferencias significativas entre los grupos.\n",
    "\n",
    "Conclusión: Ambos conjuntos de datos son consistentes, indicando que no hay impacto observable de la variación de fuentes en el evento \"OffersScreenAppear\".\n",
    "\n"
   ]
  },
  {
   "cell_type": "markdown",
   "metadata": {},
   "source": [
    "### Estimado equipo,\n",
    "\n",
    "Al revisar la instrucción “Haz lo mismo para el grupo con fuentes alteradas. Compara los resultados con los de cada uno de los grupos de control para cada evento de forma aislada. Compara los resultados con los resultados combinados de los grupos de control”, me surgieron algunas dudas que me gustaría aclarar antes de continuar.\n",
    "\n",
    "Actualmente, no tengo del todo claro a qué grupo específico se refiere como \"grupo con fuentes alteradas\" y cómo identificarlo en los datos. Tampoco tengo seguridad de si los grupos mencionados (246, 247 y 248) corresponden a los grupos de control y de prueba, ni si están pidiendo trabajar con los datos sin ningún tipo de filtrado o amputación adicional.\n",
    "\n",
    "He dejado esta parte sin desarrollar para asegurarme de interpretar correctamente las instrucciones y proceder de forma adecuada. Agradecería mucho su ayuda para aclarar estos puntos.\n",
    "\n",
    "#### Gracias por su apoyo."
   ]
  },
  {
   "cell_type": "markdown",
   "metadata": {},
   "source": [
    "## 5.5 ¿Qué nivel de significación has establecido para probar las hipótesis estadísticas mencionadas anteriormente? Calcula cuántas pruebas de hipótesis estadísticas has realizado. Con un nivel de significancia estadística de 0.1, uno de cada 10 resultados podría ser falso. ¿Cuál debería ser el nivel de significación? Si deseas cambiarlo, vuelve a ejecutar los pasos anteriores y comprueba tus conclusiones."
   ]
  },
  {
   "cell_type": "markdown",
   "metadata": {},
   "source": [
    "#### **¿Qué nivel de significación has establecido para probar las hipótesis estadísticas mencionadas anteriormente?**\n",
    "Para las pruebas de hipótesis anteriores, hemos establecido un nivel de significación de 0.05. Esto significa que aceptamos una probabilidad de error del 5% al rechazar la hipótesis nula para cada prueba de hipótesis individual.\n",
    "\n",
    "Este nivel de significación es un estándar común, pero al realizar muchas pruebas, puede ser útil considerar un ajuste para controlar el error de tipo I en el conjunto completo de pruebas."
   ]
  },
  {
   "cell_type": "markdown",
   "metadata": {},
   "source": [
    "### Calcula cuántas pruebas de hipótesis estadísticas has realizado. Con un nivel de significancia estadística de 0.1, uno de cada 10 resultados podría ser falso."
   ]
  },
  {
   "cell_type": "code",
   "execution_count": null,
   "metadata": {},
   "outputs": [
    {
     "name": "stdout",
     "output_type": "stream",
     "text": [
      "Total de pruebas de hipótesis realizadas: 23\n",
      "Posibles resultados falsos (con un nivel de significancia de 0.1): 2.3000000000000003\n"
     ]
    }
   ],
   "source": [
    "# Paso 1: Contar el número de pruebas de Shapiro-Wilk realizadas\n",
    "# Considerando las pruebas que mencionaste\n",
    "shapiro_wilk_pruebas = 2 + 3 + 3  # Para los grupos 246, 247 y 248 (ajusta si hay más grupos)\n",
    "\n",
    "# Paso 2: Contar las pruebas de Mann-Whitney U realizadas\n",
    "# Necesitamos conocer el número de eventos únicos\n",
    "eventos_unicos = clean_logs['evento'].unique()  # O usa logs['evento'] si estás trabajando con logs\n",
    "grupos_unicos = [246, 247, 248]  # Los grupos experimentales\n",
    "\n",
    "# Calculamos cuántas comparaciones de Mann-Whitney se realizan por cada evento\n",
    "# Se hacen comparaciones entre pares de grupos\n",
    "combinaciones_grupos = list(itertools.combinations(grupos_unicos, 2))\n",
    "mann_whitney_pruebas = len(combinaciones_grupos) * len(eventos_unicos)\n",
    "\n",
    "# Paso 3: Contar el total de pruebas de hipótesis\n",
    "total_pruebas = shapiro_wilk_pruebas + mann_whitney_pruebas\n",
    "\n",
    "# Paso 4: Estimar cuántos resultados podrían ser falsos\n",
    "# Nivel de significancia = 0.1, entonces 1 de cada 10 pruebas puede ser falso positivo\n",
    "falsos_positivos = total_pruebas * 0.1\n",
    "\n",
    "# Mostrar los resultados\n",
    "print(f\"Total de pruebas de hipótesis realizadas: {total_pruebas}\")\n",
    "print(f\"Posibles resultados falsos (con un nivel de significancia de 0.1): {falsos_positivos}\")\n"
   ]
  },
  {
   "cell_type": "markdown",
   "metadata": {},
   "source": [
    "#### **Total de pruebas de hipótesis realizadas:** Se han realizado un total de 23 pruebas de hipótesis estadísticas, las cuales incluyen pruebas de normalidad de Shapiro-Wilk y comparaciones entre grupos utilizando la prueba de Mann-Whitney U.\n",
    "\n",
    "#### **Posibles resultados falsos:** Dado un nivel de significancia estadística de 0.1, es probable que aproximadamente 2.3 de estas pruebas resulten en falsos positivos. Esto implica que, en promedio, uno de cada 10 resultados podría ser incorrecto, lo que resalta la importancia de interpretar cuidadosamente los resultados bajo este umbral de significancia.\n",
    "\n"
   ]
  },
  {
   "cell_type": "markdown",
   "metadata": {},
   "source": [
    "## ¿Cuál debería ser el nivel de significación? Si deseas cambiarlo, vuelve a ejecutar los pasos anteriores y comprueba tus conclusiones."
   ]
  },
  {
   "cell_type": "markdown",
   "metadata": {},
   "source": [
    "#### 1. Prueba de Shapiro-Wilk (Normalidad)\n",
    "- Esta prueba está bien aplicada. La prueba de Shapiro-Wilk es adecuada para verificar la normalidad de los datos en cada grupo (246 y 247). Es importante asegurarte de que las muestras no sean demasiado pequeñas, ya que Shapiro-Wilk es más efectiva en muestras pequeñas (menos de 50-100 datos). Si tienes muestras más grandes, podrías considerar alternativas como la prueba de Anderson-Darling o visualizaciones (como histogramas o Q-Q plots) para complementar la prueba.\n",
    "\n",
    "#### 2. Prueba de Mann-Whitney U (Comparación entre grupos)\n",
    "- La prueba de Mann-Whitney U es adecuada para comparar dos grupos independientes (246 y 247) cuando no se asume normalidad en los datos. Esta prueba es una alternativa no paramétrica a la t de Student y se utiliza correctamente aquí para verificar si hay diferencias entre los dos grupos en la variable de interés.\n",
    "\n",
    "#### 3. Prueba de Shapiro-Wilk por evento (para múltiples grupos)\n",
    "- La implementación es adecuada para realizar la prueba de normalidad de Shapiro-Wilk para cada grupo en función de un evento específico. Aquí, estamos verificando la normalidad de los datos de cada grupo (246, 247, 248) para un evento determinado.\n",
    "\n",
    "#### 4. Prueba de Mann-Whitney U para varios eventos y grupos\n",
    "-  La prueba de Mann-Whitney U está siendo utilizada correctamente para comparar cada par de grupos (de acuerdo a los eventos) utilizando las frecuencias de usuarios.\n",
    "\n",
    "#### 5. Verificación de normalidad por evento (otra versión similar)\n",
    "- Es una implementación similar a la anterior, solo que aquí se usa una variable logs en vez de clean_logs. Si ambos logs y clean_logs contienen los datos correctos, la prueba debería estar bien ejecutada.\n"
   ]
  },
  {
   "cell_type": "markdown",
   "metadata": {},
   "source": [
    "# Resumen del Análisis de Comportamiento de Usuario\n",
    "\n",
    "El presente análisis tiene como propósito comprender de manera detallada el comportamiento de los usuarios a partir de los datos registrados en el DataFrame `logs`, y su versión filtrada, `clean_logs`. A través de este estudio, se busca identificar patrones específicos de uso, validar la representatividad de los grupos experimentales y asegurar que no existan sesgos significativos en la distribución de los eventos clave entre los distintos grupos de control y experimentales. Este análisis es fundamental para garantizar la fiabilidad y la validez de cualquier interpretación y decisión basada en los datos.\n",
    "\n",
    "## Estructura de los Datos\n",
    "\n",
    "El DataFrame `logs` contiene información detallada sobre la interacción de los usuarios con la aplicación, organizada en las siguientes columnas:\n",
    "\n",
    "- **evento**: Define el tipo de acción o interacción que realizó el usuario dentro de la aplicación. Cada evento representa un comportamiento único, como la visualización de una pantalla específica o la finalización de un tutorial.\n",
    "  \n",
    "- **identificador_id**: ID único asignado a cada usuario para distinguirlo de los demás en el conjunto de datos. Este identificador permite rastrear las interacciones individuales y analizar patrones de comportamiento específicos.\n",
    "\n",
    "- **fecha**: Incluye la fecha y hora completas en que ocurrió cada evento. Esta columna es esencial para el análisis temporal, permitiendo identificar variaciones en el uso a lo largo del tiempo.\n",
    "\n",
    "- **numero_experimento**: Indica el grupo experimental al que fue asignado el usuario, con valores posibles de 246, 247 o 248. Esta variable permite diferenciar entre los usuarios de distintos grupos y evaluar si existen diferencias significativas en el comportamiento según el grupo al que pertenecen.\n",
    "\n",
    "- **date** y **hora**: Estas columnas se derivaron de la columna `fecha`, y contienen únicamente la información de la fecha y de la hora, respectivamente. Separar estos datos facilita el análisis temporal, permitiendo visualizar patrones diarios o tendencias horarias en el comportamiento de los usuarios.\n",
    "\n",
    "## Proceso de Preprocesamiento\n",
    "\n",
    "El proceso de preprocesamiento consistió en varias etapas clave para asegurar la calidad y consistencia de los datos utilizados en el análisis. A continuación, se describen los pasos principales:\n",
    "\n",
    "### Filtrado de Fechas\n",
    "Con el fin de eliminar datos no relevantes y asegurar una uniformidad temporal, se creó el DataFrame `clean_logs`, que excluye los eventos registrados antes del 1 de agosto de 2019. Esta fecha de corte se estableció para garantizar que solo se analizaran interacciones recientes y representativas, evitando así cualquier posible sesgo temporal que pudiera afectar la validez del análisis.\n",
    "\n",
    "### Verificación de la Distribución de Grupos\n",
    "Se revisó exhaustivamente la distribución de usuarios en `clean_logs` para asegurarnos de que los tres grupos experimentales (246, 247 y 248) estuvieran adecuadamente representados. Se confirmó una distribución equilibrada entre los grupos, lo cual es fundamental para la fiabilidad de los análisis comparativos y garantiza que las conclusiones no estén sesgadas por diferencias en el tamaño de los grupos.\n",
    "\n",
    "## Análisis de Frecuencia de Eventos\n",
    "\n",
    "Se realizó un análisis de frecuencia para identificar los eventos más comunes en la interacción de los usuarios con la aplicación. Este análisis permite entender qué tipos de acciones ocurren con mayor frecuencia y cuáles son los patrones predominantes en el uso de la aplicación. Los eventos más frecuentes se visualizaron mediante gráficos de barras, lo que facilita la interpretación y permite identificar de forma clara las preferencias y comportamientos recurrentes entre los usuarios.\n",
    "\n",
    "Los eventos más populares incluyen acciones como `\"Tutorial\"`, `\"MainScreenAppear\"` y `\"OffersScreenAppear\"`, entre otros. Estos eventos representan puntos de contacto clave con la aplicación y, por lo tanto, ofrecen una visión directa de cómo los usuarios interactúan y navegan por las diferentes funciones y características.\n",
    "\n",
    "## Evaluación de Diferencias entre Grupos\n",
    "\n",
    "Para investigar si existen diferencias significativas en el comportamiento entre los grupos experimentales, se seleccionaron los eventos más populares y se calculó la proporción de usuarios de cada grupo que los realizó. Este análisis comparativo es fundamental para determinar si la asignación a los grupos de control y experimental se realizó de manera uniforme y sin sesgos.\n",
    "\n",
    "### Pruebas de Normalidad\n",
    "Se realizaron pruebas de normalidad utilizando la prueba de Shapiro-Wilk para evaluar si los datos seguían una distribución normal en los grupos seleccionados. Esta prueba se aplicó específicamente a los grupos 246 y 247, y sus resultados incluyeron estadísticas y valores p que indicaron si la distribución de los datos era compatible con una curva normal. Dado el tamaño de muestra considerable (250,000 observaciones), se consideró mantener la prueba de Shapiro-Wilk debido a la falta de disponibilidad y funcionalidad del código para la prueba Anderson-Darling.\n",
    "\n",
    "### Prueba U de Mann-Whitney\n",
    "Debido a que los datos no mostraron una distribución normal, se utilizó la prueba U de Mann-Whitney para evaluar la significancia estadística de las diferencias en las proporciones de eventos entre pares de grupos. Este test no paramétrico es adecuado para comparar la distribución de los eventos sin asumir una forma específica, lo que aporta una mayor robustez a los resultados. Los resultados de esta prueba no mostraron diferencias estadísticamente significativas en la frecuencia de eventos entre los grupos experimentales para ninguno de los eventos analizados. Esto sugiere que el comportamiento de los usuarios en cuanto a eventos clave es consistente y uniforme entre los grupos, sin influencia de la asignación experimental.\n",
    "\n",
    "## Visualización y Validación de Resultados\n",
    "\n",
    "Para complementar los análisis estadísticos, se generaron gráficos QQ, que permitieron visualizar la conformidad de los datos con la distribución normal. Estos gráficos fueron útiles para evaluar visualmente la dispersión de los datos y validar los resultados obtenidos en las pruebas de normalidad. Sin embargo, se presentaron ciertas dificultades técnicas durante la generación de estos gráficos, lo que requirió realizar ajustes en la preparación de los datos para obtener representaciones visuales precisas.\n",
    "\n",
    "## Conclusión\n",
    "\n",
    "El análisis confirma que los grupos experimentales (246, 247 y 248) muestran comportamientos similares en cuanto a la realización de eventos clave en la aplicación. Este hallazgo es fundamental para la validez del experimento, ya que garantiza que cualquier análisis posterior no estará afectado por diferencias inherentes entre los grupos. La correcta división de los grupos sin sesgos estadísticos permite confiar en que los resultados obtenidos reflejan de manera precisa el comportamiento de los usuarios.\n",
    "\n",
    "En el transcurso de este análisis estadístico, se aplicaron diversas metodologías para evaluar la normalidad de los datos, la significancia de las comparaciones entre grupos y la confiabilidad de las visualizaciones. Estas herramientas proporcionan un marco sólido para la interpretación de los resultados y garantizan que las decisiones basadas en estos hallazgos sean válidas y confiables en el contexto del análisis de datos.\n"
   ]
  },
  {
   "cell_type": "markdown",
   "metadata": {},
   "source": []
  }
 ],
 "metadata": {
  "kernelspec": {
   "display_name": "Python 3",
   "language": "python",
   "name": "python3"
  },
  "language_info": {
   "codemirror_mode": {
    "name": "ipython",
    "version": 3
   },
   "file_extension": ".py",
   "mimetype": "text/x-python",
   "name": "python",
   "nbconvert_exporter": "python",
   "pygments_lexer": "ipython3",
   "version": "3.11.10"
  }
 },
 "nbformat": 4,
 "nbformat_minor": 2
}
